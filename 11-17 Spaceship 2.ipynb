{
 "cells": [
  {
   "cell_type": "code",
   "execution_count": 1,
   "id": "9253976d-fba1-41ff-92c9-270ec573112e",
   "metadata": {},
   "outputs": [],
   "source": [
    "\n",
    "import pandas as pd\n",
    "import numpy as np"
   ]
  },
  {
   "cell_type": "code",
   "execution_count": 2,
   "id": "772a6290-f883-45c0-8b74-70f27c829a8c",
   "metadata": {},
   "outputs": [],
   "source": [
    "train = pd.read_csv('train.csv')\n"
   ]
  },
  {
   "cell_type": "markdown",
   "id": "989e35ff-dc77-4c80-ad79-85eca970c2c9",
   "metadata": {
    "tags": []
   },
   "source": [
    "## 각 칼럼 확인"
   ]
  },
  {
   "cell_type": "code",
   "execution_count": 3,
   "id": "283720da-056f-44b5-a9e7-e2aedd39e545",
   "metadata": {},
   "outputs": [
    {
     "data": {
      "text/plain": [
       "Index(['PassengerId', 'HomePlanet', 'CryoSleep', 'Cabin', 'Destination', 'Age',\n",
       "       'VIP', 'RoomService', 'FoodCourt', 'ShoppingMall', 'Spa', 'VRDeck',\n",
       "       'Name', 'Transported'],\n",
       "      dtype='object')"
      ]
     },
     "execution_count": 3,
     "metadata": {},
     "output_type": "execute_result"
    }
   ],
   "source": [
    "train.columns"
   ]
  },
  {
   "cell_type": "code",
   "execution_count": 4,
   "id": "0dc21e1d-8e97-4cf6-a1f1-d5c06094c02c",
   "metadata": {},
   "outputs": [
    {
     "name": "stdout",
     "output_type": "stream",
     "text": [
      "<class 'pandas.core.frame.DataFrame'>\n",
      "RangeIndex: 8693 entries, 0 to 8692\n",
      "Data columns (total 14 columns):\n",
      " #   Column        Non-Null Count  Dtype  \n",
      "---  ------        --------------  -----  \n",
      " 0   PassengerId   8693 non-null   object \n",
      " 1   HomePlanet    8492 non-null   object \n",
      " 2   CryoSleep     8476 non-null   object \n",
      " 3   Cabin         8494 non-null   object \n",
      " 4   Destination   8511 non-null   object \n",
      " 5   Age           8514 non-null   float64\n",
      " 6   VIP           8490 non-null   object \n",
      " 7   RoomService   8512 non-null   float64\n",
      " 8   FoodCourt     8510 non-null   float64\n",
      " 9   ShoppingMall  8485 non-null   float64\n",
      " 10  Spa           8510 non-null   float64\n",
      " 11  VRDeck        8505 non-null   float64\n",
      " 12  Name          8493 non-null   object \n",
      " 13  Transported   8693 non-null   bool   \n",
      "dtypes: bool(1), float64(6), object(7)\n",
      "memory usage: 891.5+ KB\n"
     ]
    }
   ],
   "source": [
    "train.info()"
   ]
  },
  {
   "cell_type": "code",
   "execution_count": 5,
   "id": "429a70de-2991-4820-839a-72ef670bdace",
   "metadata": {},
   "outputs": [
    {
     "data": {
      "text/plain": [
       "PassengerId       0\n",
       "HomePlanet      201\n",
       "CryoSleep       217\n",
       "Cabin           199\n",
       "Destination     182\n",
       "Age             179\n",
       "VIP             203\n",
       "RoomService     181\n",
       "FoodCourt       183\n",
       "ShoppingMall    208\n",
       "Spa             183\n",
       "VRDeck          188\n",
       "Name            200\n",
       "Transported       0\n",
       "dtype: int64"
      ]
     },
     "execution_count": 5,
     "metadata": {},
     "output_type": "execute_result"
    }
   ],
   "source": [
    "train.isnull().sum()"
   ]
  },
  {
   "cell_type": "code",
   "execution_count": 6,
   "id": "271b96bc-a2ae-4e9e-aad2-c146691efffc",
   "metadata": {},
   "outputs": [
    {
     "data": {
      "text/plain": [
       "Transported\n",
       "False    29.922858\n",
       "True     27.748834\n",
       "Name: Age, dtype: float64"
      ]
     },
     "execution_count": 6,
     "metadata": {},
     "output_type": "execute_result"
    }
   ],
   "source": [
    "train.groupby('Transported')['Age'].mean()"
   ]
  },
  {
   "cell_type": "code",
   "execution_count": 7,
   "id": "4c96ac06-641d-477d-9564-92c297016c81",
   "metadata": {},
   "outputs": [
    {
     "data": {
      "text/plain": [
       "Transported\n",
       "False    0.029175\n",
       "True     0.017782\n",
       "Name: VIP, dtype: float64"
      ]
     },
     "execution_count": 7,
     "metadata": {},
     "output_type": "execute_result"
    }
   ],
   "source": [
    "train.groupby('Transported')['VIP'].mean()"
   ]
  },
  {
   "cell_type": "code",
   "execution_count": 8,
   "id": "4f41e3f0-f29a-4b50-be85-97af8f2d2886",
   "metadata": {},
   "outputs": [
    {
     "data": {
      "text/plain": [
       "Transported  VIP  \n",
       "False        False    4093\n",
       "             True      123\n",
       "True         False    4198\n",
       "             True       76\n",
       "dtype: int64"
      ]
     },
     "execution_count": 8,
     "metadata": {},
     "output_type": "execute_result"
    }
   ],
   "source": [
    "train.groupby(['Transported','VIP']).size()"
   ]
  },
  {
   "cell_type": "code",
   "execution_count": 9,
   "id": "dee3e3f2-ad6f-46d9-8f95-fe6445ac1b44",
   "metadata": {},
   "outputs": [
    {
     "data": {
      "text/plain": [
       "VIP    HomePlanet\n",
       "False  Earth         4487\n",
       "       Europa        1958\n",
       "       Mars          1653\n",
       "True   Europa         131\n",
       "       Mars            63\n",
       "dtype: int64"
      ]
     },
     "execution_count": 9,
     "metadata": {},
     "output_type": "execute_result"
    }
   ],
   "source": [
    "train.groupby(['VIP','HomePlanet']).size()"
   ]
  },
  {
   "cell_type": "code",
   "execution_count": 10,
   "id": "d1e0a256-f443-4e29-be6c-03bb87874bf2",
   "metadata": {},
   "outputs": [
    {
     "data": {
      "text/plain": [
       "Transported  HomePlanet\n",
       "False        Earth         2651\n",
       "             Europa         727\n",
       "             Mars           839\n",
       "True         Earth         1951\n",
       "             Europa        1404\n",
       "             Mars           920\n",
       "dtype: int64"
      ]
     },
     "execution_count": 10,
     "metadata": {},
     "output_type": "execute_result"
    }
   ],
   "source": [
    "train.groupby(['Transported','HomePlanet']).size()"
   ]
  },
  {
   "cell_type": "markdown",
   "id": "7cd469c5-f779-4980-a655-1940c88647fd",
   "metadata": {
    "tags": []
   },
   "source": [
    "## HomePlanet Null 처리"
   ]
  },
  {
   "cell_type": "markdown",
   "id": "e69cf211-9062-4e54-baee-888b9d1d6db8",
   "metadata": {},
   "source": [
    "HomePlanet Null 채우기 \n",
    "- 1. PassengerId 를 group으로 만들어서 같은 그룹에 같은 HomePlanet을 준다. (ex: 0001 : Earth, 0002 : Europa)\n",
    "- 2. PassengerId 를 group화 해서 null값을 채워도 111개가 남음 그래서 Name기준으로 다시 HomePlanet 값을 채운다\n",
    "- 3. Destination 을 기준으로 HomePlanet을 채운다"
   ]
  },
  {
   "cell_type": "code",
   "execution_count": 11,
   "id": "afd040b8-fbce-408c-84b1-e3e4161d0b7b",
   "metadata": {},
   "outputs": [
    {
     "data": {
      "text/plain": [
       "'PassengerId    0\\nHomePlanet      201\\nCryoSleep       217\\nCabin           199\\nDestination     182\\nAge             179\\nVIP             203\\nRoomService     181\\nFoodCourt       183\\nShoppingMall    208\\nSpa             183\\nVRDeck          188\\nName            200\\nTransported       0'"
      ]
     },
     "execution_count": 11,
     "metadata": {},
     "output_type": "execute_result"
    }
   ],
   "source": [
    "# null 값\n",
    "'''PassengerId    0\n",
    "HomePlanet      201\n",
    "CryoSleep       217\n",
    "Cabin           199\n",
    "Destination     182\n",
    "Age             179\n",
    "VIP             203\n",
    "RoomService     181\n",
    "FoodCourt       183\n",
    "ShoppingMall    208\n",
    "Spa             183\n",
    "VRDeck          188\n",
    "Name            200\n",
    "Transported       0'''"
   ]
  },
  {
   "cell_type": "code",
   "execution_count": 12,
   "id": "ce46cc64-7563-48d0-bc3c-904fd7f0e68a",
   "metadata": {},
   "outputs": [
    {
     "data": {
      "text/plain": [
       "Earth     4602\n",
       "Europa    2131\n",
       "Mars      1759\n",
       "Name: HomePlanet, dtype: int64"
      ]
     },
     "execution_count": 12,
     "metadata": {},
     "output_type": "execute_result"
    }
   ],
   "source": [
    "train['HomePlanet'].value_counts()"
   ]
  },
  {
   "cell_type": "code",
   "execution_count": 13,
   "id": "0bb0c36b-9ab1-4736-bee1-0dfba6f2066e",
   "metadata": {},
   "outputs": [],
   "source": [
    "train['Group'] = train['PassengerId'].str[:4]\n",
    "# train['PassengerId'].split('_')str[0]"
   ]
  },
  {
   "cell_type": "code",
   "execution_count": 14,
   "id": "47d62aab-f813-4706-ad50-7d5a721e9a08",
   "metadata": {},
   "outputs": [
    {
     "data": {
      "text/plain": [
       "0       0001\n",
       "1       0002\n",
       "2       0003\n",
       "3       0003\n",
       "4       0004\n",
       "        ... \n",
       "8688    9276\n",
       "8689    9278\n",
       "8690    9279\n",
       "8691    9280\n",
       "8692    9280\n",
       "Name: PassengerId, Length: 8693, dtype: object"
      ]
     },
     "execution_count": 14,
     "metadata": {},
     "output_type": "execute_result"
    }
   ],
   "source": [
    "train['PassengerId'].str[:4]"
   ]
  },
  {
   "cell_type": "code",
   "execution_count": 15,
   "id": "31500ae1-6f7f-4db4-a716-eb89cfc034c6",
   "metadata": {},
   "outputs": [
    {
     "data": {
      "text/plain": [
       "Group  HomePlanet\n",
       "0001   Europa        1\n",
       "0002   Earth         1\n",
       "0003   Europa        2\n",
       "0004   Earth         1\n",
       "0005   Earth         1\n",
       "                    ..\n",
       "9275   Europa        3\n",
       "9276   Europa        1\n",
       "9278   Earth         1\n",
       "9279   Earth         1\n",
       "9280   Europa        2\n",
       "Length: 6107, dtype: int64"
      ]
     },
     "execution_count": 15,
     "metadata": {},
     "output_type": "execute_result"
    }
   ],
   "source": [
    "train.groupby(['Group','HomePlanet']).size()"
   ]
  },
  {
   "cell_type": "code",
   "execution_count": 16,
   "id": "a697e8bb-8881-47b4-93e0-7b749b32474b",
   "metadata": {},
   "outputs": [],
   "source": [
    "home_group = train.groupby(['Group','HomePlanet']).size().reset_index()"
   ]
  },
  {
   "cell_type": "code",
   "execution_count": 17,
   "id": "392d96cd-9fd0-4ba8-8a9e-946cfbfeed0e",
   "metadata": {},
   "outputs": [
    {
     "data": {
      "text/html": [
       "<div>\n",
       "<style scoped>\n",
       "    .dataframe tbody tr th:only-of-type {\n",
       "        vertical-align: middle;\n",
       "    }\n",
       "\n",
       "    .dataframe tbody tr th {\n",
       "        vertical-align: top;\n",
       "    }\n",
       "\n",
       "    .dataframe thead th {\n",
       "        text-align: right;\n",
       "    }\n",
       "</style>\n",
       "<table border=\"1\" class=\"dataframe\">\n",
       "  <thead>\n",
       "    <tr style=\"text-align: right;\">\n",
       "      <th></th>\n",
       "      <th>Group</th>\n",
       "      <th>HomePlanet</th>\n",
       "      <th>0</th>\n",
       "    </tr>\n",
       "  </thead>\n",
       "  <tbody>\n",
       "    <tr>\n",
       "      <th>0</th>\n",
       "      <td>0001</td>\n",
       "      <td>Europa</td>\n",
       "      <td>1</td>\n",
       "    </tr>\n",
       "    <tr>\n",
       "      <th>1</th>\n",
       "      <td>0002</td>\n",
       "      <td>Earth</td>\n",
       "      <td>1</td>\n",
       "    </tr>\n",
       "    <tr>\n",
       "      <th>2</th>\n",
       "      <td>0003</td>\n",
       "      <td>Europa</td>\n",
       "      <td>2</td>\n",
       "    </tr>\n",
       "    <tr>\n",
       "      <th>3</th>\n",
       "      <td>0004</td>\n",
       "      <td>Earth</td>\n",
       "      <td>1</td>\n",
       "    </tr>\n",
       "    <tr>\n",
       "      <th>4</th>\n",
       "      <td>0005</td>\n",
       "      <td>Earth</td>\n",
       "      <td>1</td>\n",
       "    </tr>\n",
       "    <tr>\n",
       "      <th>...</th>\n",
       "      <td>...</td>\n",
       "      <td>...</td>\n",
       "      <td>...</td>\n",
       "    </tr>\n",
       "    <tr>\n",
       "      <th>6102</th>\n",
       "      <td>9275</td>\n",
       "      <td>Europa</td>\n",
       "      <td>3</td>\n",
       "    </tr>\n",
       "    <tr>\n",
       "      <th>6103</th>\n",
       "      <td>9276</td>\n",
       "      <td>Europa</td>\n",
       "      <td>1</td>\n",
       "    </tr>\n",
       "    <tr>\n",
       "      <th>6104</th>\n",
       "      <td>9278</td>\n",
       "      <td>Earth</td>\n",
       "      <td>1</td>\n",
       "    </tr>\n",
       "    <tr>\n",
       "      <th>6105</th>\n",
       "      <td>9279</td>\n",
       "      <td>Earth</td>\n",
       "      <td>1</td>\n",
       "    </tr>\n",
       "    <tr>\n",
       "      <th>6106</th>\n",
       "      <td>9280</td>\n",
       "      <td>Europa</td>\n",
       "      <td>2</td>\n",
       "    </tr>\n",
       "  </tbody>\n",
       "</table>\n",
       "<p>6107 rows × 3 columns</p>\n",
       "</div>"
      ],
      "text/plain": [
       "     Group HomePlanet  0\n",
       "0     0001     Europa  1\n",
       "1     0002      Earth  1\n",
       "2     0003     Europa  2\n",
       "3     0004      Earth  1\n",
       "4     0005      Earth  1\n",
       "...    ...        ... ..\n",
       "6102  9275     Europa  3\n",
       "6103  9276     Europa  1\n",
       "6104  9278      Earth  1\n",
       "6105  9279      Earth  1\n",
       "6106  9280     Europa  2\n",
       "\n",
       "[6107 rows x 3 columns]"
      ]
     },
     "execution_count": 17,
     "metadata": {},
     "output_type": "execute_result"
    }
   ],
   "source": [
    "home_group"
   ]
  },
  {
   "cell_type": "code",
   "execution_count": 18,
   "id": "df0f123a-5b4b-48b6-8d7c-3c3b3098e23a",
   "metadata": {},
   "outputs": [
    {
     "data": {
      "text/html": [
       "<div>\n",
       "<style scoped>\n",
       "    .dataframe tbody tr th:only-of-type {\n",
       "        vertical-align: middle;\n",
       "    }\n",
       "\n",
       "    .dataframe tbody tr th {\n",
       "        vertical-align: top;\n",
       "    }\n",
       "\n",
       "    .dataframe thead th {\n",
       "        text-align: right;\n",
       "    }\n",
       "</style>\n",
       "<table border=\"1\" class=\"dataframe\">\n",
       "  <thead>\n",
       "    <tr style=\"text-align: right;\">\n",
       "      <th></th>\n",
       "      <th>Group</th>\n",
       "      <th>HomePlanet</th>\n",
       "      <th>0</th>\n",
       "    </tr>\n",
       "  </thead>\n",
       "  <tbody>\n",
       "  </tbody>\n",
       "</table>\n",
       "</div>"
      ],
      "text/plain": [
       "Empty DataFrame\n",
       "Columns: [Group, HomePlanet, 0]\n",
       "Index: []"
      ]
     },
     "execution_count": 18,
     "metadata": {},
     "output_type": "execute_result"
    }
   ],
   "source": [
    "home_group[home_group.duplicated()]\n",
    "# group이 중복된 것이 없다 각 그룹별로 행성 데이터가 존재 한다 (Earth, Europa, Mars)"
   ]
  },
  {
   "cell_type": "code",
   "execution_count": 19,
   "id": "a50e171e-ddff-40ff-a135-1d6ff21e5e2b",
   "metadata": {
    "tags": []
   },
   "outputs": [
    {
     "data": {
      "text/html": [
       "<div>\n",
       "<style scoped>\n",
       "    .dataframe tbody tr th:only-of-type {\n",
       "        vertical-align: middle;\n",
       "    }\n",
       "\n",
       "    .dataframe tbody tr th {\n",
       "        vertical-align: top;\n",
       "    }\n",
       "\n",
       "    .dataframe thead th {\n",
       "        text-align: right;\n",
       "    }\n",
       "</style>\n",
       "<table border=\"1\" class=\"dataframe\">\n",
       "  <thead>\n",
       "    <tr style=\"text-align: right;\">\n",
       "      <th></th>\n",
       "      <th>PassengerId</th>\n",
       "      <th>HomePlanet</th>\n",
       "      <th>CryoSleep</th>\n",
       "      <th>Cabin</th>\n",
       "      <th>Destination</th>\n",
       "      <th>Age</th>\n",
       "      <th>VIP</th>\n",
       "      <th>RoomService</th>\n",
       "      <th>FoodCourt</th>\n",
       "      <th>ShoppingMall</th>\n",
       "      <th>Spa</th>\n",
       "      <th>VRDeck</th>\n",
       "      <th>Name</th>\n",
       "      <th>Transported</th>\n",
       "      <th>Group</th>\n",
       "    </tr>\n",
       "  </thead>\n",
       "  <tbody>\n",
       "    <tr>\n",
       "      <th>59</th>\n",
       "      <td>0064_02</td>\n",
       "      <td>NaN</td>\n",
       "      <td>True</td>\n",
       "      <td>E/3/S</td>\n",
       "      <td>TRAPPIST-1e</td>\n",
       "      <td>33.0</td>\n",
       "      <td>False</td>\n",
       "      <td>0.0</td>\n",
       "      <td>0.0</td>\n",
       "      <td>NaN</td>\n",
       "      <td>0.0</td>\n",
       "      <td>0.0</td>\n",
       "      <td>Colatz Keen</td>\n",
       "      <td>True</td>\n",
       "      <td>0064</td>\n",
       "    </tr>\n",
       "    <tr>\n",
       "      <th>113</th>\n",
       "      <td>0119_01</td>\n",
       "      <td>NaN</td>\n",
       "      <td>False</td>\n",
       "      <td>A/0/P</td>\n",
       "      <td>TRAPPIST-1e</td>\n",
       "      <td>39.0</td>\n",
       "      <td>False</td>\n",
       "      <td>0.0</td>\n",
       "      <td>2344.0</td>\n",
       "      <td>0.0</td>\n",
       "      <td>65.0</td>\n",
       "      <td>6898.0</td>\n",
       "      <td>Batan Coning</td>\n",
       "      <td>False</td>\n",
       "      <td>0119</td>\n",
       "    </tr>\n",
       "    <tr>\n",
       "      <th>186</th>\n",
       "      <td>0210_01</td>\n",
       "      <td>NaN</td>\n",
       "      <td>True</td>\n",
       "      <td>D/6/P</td>\n",
       "      <td>55 Cancri e</td>\n",
       "      <td>24.0</td>\n",
       "      <td>False</td>\n",
       "      <td>0.0</td>\n",
       "      <td>0.0</td>\n",
       "      <td>NaN</td>\n",
       "      <td>0.0</td>\n",
       "      <td>0.0</td>\n",
       "      <td>Arraid Inicont</td>\n",
       "      <td>True</td>\n",
       "      <td>0210</td>\n",
       "    </tr>\n",
       "    <tr>\n",
       "      <th>225</th>\n",
       "      <td>0242_01</td>\n",
       "      <td>NaN</td>\n",
       "      <td>False</td>\n",
       "      <td>F/46/S</td>\n",
       "      <td>TRAPPIST-1e</td>\n",
       "      <td>18.0</td>\n",
       "      <td>False</td>\n",
       "      <td>313.0</td>\n",
       "      <td>1.0</td>\n",
       "      <td>691.0</td>\n",
       "      <td>283.0</td>\n",
       "      <td>0.0</td>\n",
       "      <td>Almone Sté</td>\n",
       "      <td>False</td>\n",
       "      <td>0242</td>\n",
       "    </tr>\n",
       "    <tr>\n",
       "      <th>234</th>\n",
       "      <td>0251_01</td>\n",
       "      <td>NaN</td>\n",
       "      <td>True</td>\n",
       "      <td>C/11/S</td>\n",
       "      <td>55 Cancri e</td>\n",
       "      <td>54.0</td>\n",
       "      <td>False</td>\n",
       "      <td>0.0</td>\n",
       "      <td>0.0</td>\n",
       "      <td>0.0</td>\n",
       "      <td>0.0</td>\n",
       "      <td>0.0</td>\n",
       "      <td>Diphah Amsive</td>\n",
       "      <td>True</td>\n",
       "      <td>0251</td>\n",
       "    </tr>\n",
       "    <tr>\n",
       "      <th>...</th>\n",
       "      <td>...</td>\n",
       "      <td>...</td>\n",
       "      <td>...</td>\n",
       "      <td>...</td>\n",
       "      <td>...</td>\n",
       "      <td>...</td>\n",
       "      <td>...</td>\n",
       "      <td>...</td>\n",
       "      <td>...</td>\n",
       "      <td>...</td>\n",
       "      <td>...</td>\n",
       "      <td>...</td>\n",
       "      <td>...</td>\n",
       "      <td>...</td>\n",
       "      <td>...</td>\n",
       "    </tr>\n",
       "    <tr>\n",
       "      <th>8515</th>\n",
       "      <td>9084_01</td>\n",
       "      <td>NaN</td>\n",
       "      <td>False</td>\n",
       "      <td>E/582/P</td>\n",
       "      <td>TRAPPIST-1e</td>\n",
       "      <td>25.0</td>\n",
       "      <td>False</td>\n",
       "      <td>1258.0</td>\n",
       "      <td>0.0</td>\n",
       "      <td>22.0</td>\n",
       "      <td>19.0</td>\n",
       "      <td>0.0</td>\n",
       "      <td>Jurs Mone</td>\n",
       "      <td>False</td>\n",
       "      <td>9084</td>\n",
       "    </tr>\n",
       "    <tr>\n",
       "      <th>8613</th>\n",
       "      <td>9194_01</td>\n",
       "      <td>NaN</td>\n",
       "      <td>False</td>\n",
       "      <td>E/603/S</td>\n",
       "      <td>55 Cancri e</td>\n",
       "      <td>53.0</td>\n",
       "      <td>False</td>\n",
       "      <td>0.0</td>\n",
       "      <td>4017.0</td>\n",
       "      <td>0.0</td>\n",
       "      <td>13.0</td>\n",
       "      <td>3147.0</td>\n",
       "      <td>NaN</td>\n",
       "      <td>False</td>\n",
       "      <td>9194</td>\n",
       "    </tr>\n",
       "    <tr>\n",
       "      <th>8666</th>\n",
       "      <td>9248_01</td>\n",
       "      <td>NaN</td>\n",
       "      <td>False</td>\n",
       "      <td>F/1792/S</td>\n",
       "      <td>55 Cancri e</td>\n",
       "      <td>38.0</td>\n",
       "      <td>NaN</td>\n",
       "      <td>28.0</td>\n",
       "      <td>1208.0</td>\n",
       "      <td>973.0</td>\n",
       "      <td>207.0</td>\n",
       "      <td>0.0</td>\n",
       "      <td>Gian Perle</td>\n",
       "      <td>True</td>\n",
       "      <td>9248</td>\n",
       "    </tr>\n",
       "    <tr>\n",
       "      <th>8674</th>\n",
       "      <td>9257_01</td>\n",
       "      <td>NaN</td>\n",
       "      <td>False</td>\n",
       "      <td>F/1892/P</td>\n",
       "      <td>TRAPPIST-1e</td>\n",
       "      <td>13.0</td>\n",
       "      <td>False</td>\n",
       "      <td>39.0</td>\n",
       "      <td>0.0</td>\n",
       "      <td>1085.0</td>\n",
       "      <td>24.0</td>\n",
       "      <td>0.0</td>\n",
       "      <td>Ties Apple</td>\n",
       "      <td>False</td>\n",
       "      <td>9257</td>\n",
       "    </tr>\n",
       "    <tr>\n",
       "      <th>8684</th>\n",
       "      <td>9274_01</td>\n",
       "      <td>NaN</td>\n",
       "      <td>True</td>\n",
       "      <td>G/1508/P</td>\n",
       "      <td>TRAPPIST-1e</td>\n",
       "      <td>23.0</td>\n",
       "      <td>False</td>\n",
       "      <td>0.0</td>\n",
       "      <td>0.0</td>\n",
       "      <td>0.0</td>\n",
       "      <td>0.0</td>\n",
       "      <td>0.0</td>\n",
       "      <td>Chelsa Bullisey</td>\n",
       "      <td>True</td>\n",
       "      <td>9274</td>\n",
       "    </tr>\n",
       "  </tbody>\n",
       "</table>\n",
       "<p>201 rows × 15 columns</p>\n",
       "</div>"
      ],
      "text/plain": [
       "     PassengerId HomePlanet CryoSleep     Cabin  Destination   Age    VIP  \\\n",
       "59       0064_02        NaN      True     E/3/S  TRAPPIST-1e  33.0  False   \n",
       "113      0119_01        NaN     False     A/0/P  TRAPPIST-1e  39.0  False   \n",
       "186      0210_01        NaN      True     D/6/P  55 Cancri e  24.0  False   \n",
       "225      0242_01        NaN     False    F/46/S  TRAPPIST-1e  18.0  False   \n",
       "234      0251_01        NaN      True    C/11/S  55 Cancri e  54.0  False   \n",
       "...          ...        ...       ...       ...          ...   ...    ...   \n",
       "8515     9084_01        NaN     False   E/582/P  TRAPPIST-1e  25.0  False   \n",
       "8613     9194_01        NaN     False   E/603/S  55 Cancri e  53.0  False   \n",
       "8666     9248_01        NaN     False  F/1792/S  55 Cancri e  38.0    NaN   \n",
       "8674     9257_01        NaN     False  F/1892/P  TRAPPIST-1e  13.0  False   \n",
       "8684     9274_01        NaN      True  G/1508/P  TRAPPIST-1e  23.0  False   \n",
       "\n",
       "      RoomService  FoodCourt  ShoppingMall    Spa  VRDeck             Name  \\\n",
       "59            0.0        0.0           NaN    0.0     0.0      Colatz Keen   \n",
       "113           0.0     2344.0           0.0   65.0  6898.0     Batan Coning   \n",
       "186           0.0        0.0           NaN    0.0     0.0   Arraid Inicont   \n",
       "225         313.0        1.0         691.0  283.0     0.0       Almone Sté   \n",
       "234           0.0        0.0           0.0    0.0     0.0    Diphah Amsive   \n",
       "...           ...        ...           ...    ...     ...              ...   \n",
       "8515       1258.0        0.0          22.0   19.0     0.0        Jurs Mone   \n",
       "8613          0.0     4017.0           0.0   13.0  3147.0              NaN   \n",
       "8666         28.0     1208.0         973.0  207.0     0.0       Gian Perle   \n",
       "8674         39.0        0.0        1085.0   24.0     0.0       Ties Apple   \n",
       "8684          0.0        0.0           0.0    0.0     0.0  Chelsa Bullisey   \n",
       "\n",
       "      Transported Group  \n",
       "59           True  0064  \n",
       "113         False  0119  \n",
       "186          True  0210  \n",
       "225         False  0242  \n",
       "234          True  0251  \n",
       "...           ...   ...  \n",
       "8515        False  9084  \n",
       "8613        False  9194  \n",
       "8666         True  9248  \n",
       "8674        False  9257  \n",
       "8684         True  9274  \n",
       "\n",
       "[201 rows x 15 columns]"
      ]
     },
     "execution_count": 19,
     "metadata": {},
     "output_type": "execute_result"
    }
   ],
   "source": [
    "train[train['HomePlanet'].isnull()]"
   ]
  },
  {
   "cell_type": "code",
   "execution_count": 20,
   "id": "6985a22e-7a2d-4807-bf1f-ca0850db5de9",
   "metadata": {
    "tags": []
   },
   "outputs": [],
   "source": [
    "home_dict={}\n",
    "for g, hp in zip(home_group['Group'], home_group['HomePlanet']):\n",
    "    home_dict[g]=hp"
   ]
  },
  {
   "cell_type": "code",
   "execution_count": 21,
   "id": "1f949d39-1012-4041-b5fc-ee164076e9bb",
   "metadata": {},
   "outputs": [],
   "source": [
    "train['HomePlanet'].fillna(train['Group'].map(home_dict), inplace=True)\n",
    "# train['Group'] 이 0 이면 Europa, 1이면 Earth 맵핑"
   ]
  },
  {
   "cell_type": "code",
   "execution_count": 22,
   "id": "53025e94-6c39-4a5e-a69d-0229b9ec7005",
   "metadata": {},
   "outputs": [
    {
     "data": {
      "text/plain": [
       "111"
      ]
     },
     "execution_count": 22,
     "metadata": {},
     "output_type": "execute_result"
    }
   ],
   "source": [
    "train['HomePlanet'].isnull().sum()\n",
    "# null 값이 111개 존재 한다 이 값은 다른 방법으로 처리 해야 함"
   ]
  },
  {
   "cell_type": "code",
   "execution_count": 23,
   "id": "cf72d03d-9845-4a6b-a876-3a1a9a38cdd8",
   "metadata": {
    "tags": []
   },
   "outputs": [],
   "source": [
    "train['Name2'] = train['Name'].str.split(' ').str[1]"
   ]
  },
  {
   "cell_type": "code",
   "execution_count": 24,
   "id": "ad59eed2-f7cb-4c2c-acf8-03850f38c13c",
   "metadata": {},
   "outputs": [],
   "source": [
    "name_group = train.groupby(['Name2','HomePlanet']).size().reset_index()"
   ]
  },
  {
   "cell_type": "code",
   "execution_count": 25,
   "id": "89435f59-10f8-4f3d-ab3c-10987832596a",
   "metadata": {},
   "outputs": [],
   "source": [
    "name_dict={}\n",
    "for n, hp in zip(name_group['Name2'], name_group['HomePlanet']):\n",
    "    name_dict[n]=hp"
   ]
  },
  {
   "cell_type": "code",
   "execution_count": 26,
   "id": "8a1f185f-22b5-4949-8319-358a89734848",
   "metadata": {
    "tags": []
   },
   "outputs": [],
   "source": [
    "train['HomePlanet'].fillna(train['Name2'].map(name_dict), inplace=True)\n",
    "# train['Group'] 이 0 이면 Europa, 1이면 Earth 맵핑"
   ]
  },
  {
   "cell_type": "code",
   "execution_count": 27,
   "id": "0f8b8beb-4732-47f3-ab7d-1c934f0915cd",
   "metadata": {
    "tags": []
   },
   "outputs": [
    {
     "data": {
      "text/html": [
       "<div>\n",
       "<style scoped>\n",
       "    .dataframe tbody tr th:only-of-type {\n",
       "        vertical-align: middle;\n",
       "    }\n",
       "\n",
       "    .dataframe tbody tr th {\n",
       "        vertical-align: top;\n",
       "    }\n",
       "\n",
       "    .dataframe thead th {\n",
       "        text-align: right;\n",
       "    }\n",
       "</style>\n",
       "<table border=\"1\" class=\"dataframe\">\n",
       "  <thead>\n",
       "    <tr style=\"text-align: right;\">\n",
       "      <th></th>\n",
       "      <th>PassengerId</th>\n",
       "      <th>HomePlanet</th>\n",
       "      <th>CryoSleep</th>\n",
       "      <th>Cabin</th>\n",
       "      <th>Destination</th>\n",
       "      <th>Age</th>\n",
       "      <th>VIP</th>\n",
       "      <th>RoomService</th>\n",
       "      <th>FoodCourt</th>\n",
       "      <th>ShoppingMall</th>\n",
       "      <th>Spa</th>\n",
       "      <th>VRDeck</th>\n",
       "      <th>Name</th>\n",
       "      <th>Transported</th>\n",
       "      <th>Group</th>\n",
       "      <th>Name2</th>\n",
       "    </tr>\n",
       "  </thead>\n",
       "  <tbody>\n",
       "    <tr>\n",
       "      <th>225</th>\n",
       "      <td>0242_01</td>\n",
       "      <td>NaN</td>\n",
       "      <td>False</td>\n",
       "      <td>F/46/S</td>\n",
       "      <td>TRAPPIST-1e</td>\n",
       "      <td>18.0</td>\n",
       "      <td>False</td>\n",
       "      <td>313.0</td>\n",
       "      <td>1.0</td>\n",
       "      <td>691.0</td>\n",
       "      <td>283.0</td>\n",
       "      <td>0.0</td>\n",
       "      <td>Almone Sté</td>\n",
       "      <td>False</td>\n",
       "      <td>0242</td>\n",
       "      <td>Sté</td>\n",
       "    </tr>\n",
       "    <tr>\n",
       "      <th>234</th>\n",
       "      <td>0251_01</td>\n",
       "      <td>NaN</td>\n",
       "      <td>True</td>\n",
       "      <td>C/11/S</td>\n",
       "      <td>55 Cancri e</td>\n",
       "      <td>54.0</td>\n",
       "      <td>False</td>\n",
       "      <td>0.0</td>\n",
       "      <td>0.0</td>\n",
       "      <td>0.0</td>\n",
       "      <td>0.0</td>\n",
       "      <td>0.0</td>\n",
       "      <td>Diphah Amsive</td>\n",
       "      <td>True</td>\n",
       "      <td>0251</td>\n",
       "      <td>Amsive</td>\n",
       "    </tr>\n",
       "    <tr>\n",
       "      <th>807</th>\n",
       "      <td>0853_01</td>\n",
       "      <td>NaN</td>\n",
       "      <td>True</td>\n",
       "      <td>A/9/S</td>\n",
       "      <td>55 Cancri e</td>\n",
       "      <td>38.0</td>\n",
       "      <td>False</td>\n",
       "      <td>0.0</td>\n",
       "      <td>0.0</td>\n",
       "      <td>0.0</td>\n",
       "      <td>0.0</td>\n",
       "      <td>0.0</td>\n",
       "      <td>Hamelik Ageurante</td>\n",
       "      <td>True</td>\n",
       "      <td>0853</td>\n",
       "      <td>Ageurante</td>\n",
       "    </tr>\n",
       "    <tr>\n",
       "      <th>1855</th>\n",
       "      <td>1978_01</td>\n",
       "      <td>NaN</td>\n",
       "      <td>True</td>\n",
       "      <td>G/311/S</td>\n",
       "      <td>TRAPPIST-1e</td>\n",
       "      <td>19.0</td>\n",
       "      <td>False</td>\n",
       "      <td>0.0</td>\n",
       "      <td>0.0</td>\n",
       "      <td>0.0</td>\n",
       "      <td>0.0</td>\n",
       "      <td>0.0</td>\n",
       "      <td>NaN</td>\n",
       "      <td>True</td>\n",
       "      <td>1978</td>\n",
       "      <td>NaN</td>\n",
       "    </tr>\n",
       "    <tr>\n",
       "      <th>2274</th>\n",
       "      <td>2443_01</td>\n",
       "      <td>NaN</td>\n",
       "      <td>False</td>\n",
       "      <td>D/72/P</td>\n",
       "      <td>TRAPPIST-1e</td>\n",
       "      <td>31.0</td>\n",
       "      <td>False</td>\n",
       "      <td>1458.0</td>\n",
       "      <td>421.0</td>\n",
       "      <td>76.0</td>\n",
       "      <td>0.0</td>\n",
       "      <td>0.0</td>\n",
       "      <td>NaN</td>\n",
       "      <td>False</td>\n",
       "      <td>2443</td>\n",
       "      <td>NaN</td>\n",
       "    </tr>\n",
       "    <tr>\n",
       "      <th>2631</th>\n",
       "      <td>2817_01</td>\n",
       "      <td>NaN</td>\n",
       "      <td>False</td>\n",
       "      <td>F/584/P</td>\n",
       "      <td>TRAPPIST-1e</td>\n",
       "      <td>25.0</td>\n",
       "      <td>False</td>\n",
       "      <td>237.0</td>\n",
       "      <td>0.0</td>\n",
       "      <td>910.0</td>\n",
       "      <td>0.0</td>\n",
       "      <td>12.0</td>\n",
       "      <td>Sealfs Sutty</td>\n",
       "      <td>False</td>\n",
       "      <td>2817</td>\n",
       "      <td>Sutty</td>\n",
       "    </tr>\n",
       "    <tr>\n",
       "      <th>3091</th>\n",
       "      <td>3331_01</td>\n",
       "      <td>NaN</td>\n",
       "      <td>False</td>\n",
       "      <td>F/631/S</td>\n",
       "      <td>TRAPPIST-1e</td>\n",
       "      <td>40.0</td>\n",
       "      <td>False</td>\n",
       "      <td>666.0</td>\n",
       "      <td>4.0</td>\n",
       "      <td>83.0</td>\n",
       "      <td>0.0</td>\n",
       "      <td>50.0</td>\n",
       "      <td>NaN</td>\n",
       "      <td>True</td>\n",
       "      <td>3331</td>\n",
       "      <td>NaN</td>\n",
       "    </tr>\n",
       "    <tr>\n",
       "      <th>4548</th>\n",
       "      <td>4840_01</td>\n",
       "      <td>NaN</td>\n",
       "      <td>True</td>\n",
       "      <td>F/915/S</td>\n",
       "      <td>TRAPPIST-1e</td>\n",
       "      <td>36.0</td>\n",
       "      <td>False</td>\n",
       "      <td>0.0</td>\n",
       "      <td>0.0</td>\n",
       "      <td>NaN</td>\n",
       "      <td>0.0</td>\n",
       "      <td>0.0</td>\n",
       "      <td>NaN</td>\n",
       "      <td>True</td>\n",
       "      <td>4840</td>\n",
       "      <td>NaN</td>\n",
       "    </tr>\n",
       "    <tr>\n",
       "      <th>5252</th>\n",
       "      <td>5603_01</td>\n",
       "      <td>NaN</td>\n",
       "      <td>False</td>\n",
       "      <td>E/365/S</td>\n",
       "      <td>TRAPPIST-1e</td>\n",
       "      <td>34.0</td>\n",
       "      <td>False</td>\n",
       "      <td>170.0</td>\n",
       "      <td>1256.0</td>\n",
       "      <td>0.0</td>\n",
       "      <td>3926.0</td>\n",
       "      <td>7121.0</td>\n",
       "      <td>Kocha Cluitty</td>\n",
       "      <td>False</td>\n",
       "      <td>5603</td>\n",
       "      <td>Cluitty</td>\n",
       "    </tr>\n",
       "    <tr>\n",
       "      <th>5634</th>\n",
       "      <td>5989_01</td>\n",
       "      <td>NaN</td>\n",
       "      <td>False</td>\n",
       "      <td>F/1141/S</td>\n",
       "      <td>TRAPPIST-1e</td>\n",
       "      <td>20.0</td>\n",
       "      <td>False</td>\n",
       "      <td>0.0</td>\n",
       "      <td>0.0</td>\n",
       "      <td>NaN</td>\n",
       "      <td>703.0</td>\n",
       "      <td>0.0</td>\n",
       "      <td>Darrie Holcompton</td>\n",
       "      <td>False</td>\n",
       "      <td>5989</td>\n",
       "      <td>Holcompton</td>\n",
       "    </tr>\n",
       "    <tr>\n",
       "      <th>5762</th>\n",
       "      <td>6108_01</td>\n",
       "      <td>NaN</td>\n",
       "      <td>False</td>\n",
       "      <td>F/1166/S</td>\n",
       "      <td>TRAPPIST-1e</td>\n",
       "      <td>13.0</td>\n",
       "      <td>False</td>\n",
       "      <td>206.0</td>\n",
       "      <td>28.0</td>\n",
       "      <td>0.0</td>\n",
       "      <td>1.0</td>\n",
       "      <td>629.0</td>\n",
       "      <td>NaN</td>\n",
       "      <td>False</td>\n",
       "      <td>6108</td>\n",
       "      <td>NaN</td>\n",
       "    </tr>\n",
       "    <tr>\n",
       "      <th>6644</th>\n",
       "      <td>7006_01</td>\n",
       "      <td>NaN</td>\n",
       "      <td>True</td>\n",
       "      <td>G/1142/S</td>\n",
       "      <td>PSO J318.5-22</td>\n",
       "      <td>16.0</td>\n",
       "      <td>False</td>\n",
       "      <td>0.0</td>\n",
       "      <td>0.0</td>\n",
       "      <td>0.0</td>\n",
       "      <td>0.0</td>\n",
       "      <td>0.0</td>\n",
       "      <td>Tammyl Fuenton</td>\n",
       "      <td>True</td>\n",
       "      <td>7006</td>\n",
       "      <td>Fuenton</td>\n",
       "    </tr>\n",
       "  </tbody>\n",
       "</table>\n",
       "</div>"
      ],
      "text/plain": [
       "     PassengerId HomePlanet CryoSleep     Cabin    Destination   Age    VIP  \\\n",
       "225      0242_01        NaN     False    F/46/S    TRAPPIST-1e  18.0  False   \n",
       "234      0251_01        NaN      True    C/11/S    55 Cancri e  54.0  False   \n",
       "807      0853_01        NaN      True     A/9/S    55 Cancri e  38.0  False   \n",
       "1855     1978_01        NaN      True   G/311/S    TRAPPIST-1e  19.0  False   \n",
       "2274     2443_01        NaN     False    D/72/P    TRAPPIST-1e  31.0  False   \n",
       "2631     2817_01        NaN     False   F/584/P    TRAPPIST-1e  25.0  False   \n",
       "3091     3331_01        NaN     False   F/631/S    TRAPPIST-1e  40.0  False   \n",
       "4548     4840_01        NaN      True   F/915/S    TRAPPIST-1e  36.0  False   \n",
       "5252     5603_01        NaN     False   E/365/S    TRAPPIST-1e  34.0  False   \n",
       "5634     5989_01        NaN     False  F/1141/S    TRAPPIST-1e  20.0  False   \n",
       "5762     6108_01        NaN     False  F/1166/S    TRAPPIST-1e  13.0  False   \n",
       "6644     7006_01        NaN      True  G/1142/S  PSO J318.5-22  16.0  False   \n",
       "\n",
       "      RoomService  FoodCourt  ShoppingMall     Spa  VRDeck               Name  \\\n",
       "225         313.0        1.0         691.0   283.0     0.0         Almone Sté   \n",
       "234           0.0        0.0           0.0     0.0     0.0      Diphah Amsive   \n",
       "807           0.0        0.0           0.0     0.0     0.0  Hamelik Ageurante   \n",
       "1855          0.0        0.0           0.0     0.0     0.0                NaN   \n",
       "2274       1458.0      421.0          76.0     0.0     0.0                NaN   \n",
       "2631        237.0        0.0         910.0     0.0    12.0       Sealfs Sutty   \n",
       "3091        666.0        4.0          83.0     0.0    50.0                NaN   \n",
       "4548          0.0        0.0           NaN     0.0     0.0                NaN   \n",
       "5252        170.0     1256.0           0.0  3926.0  7121.0      Kocha Cluitty   \n",
       "5634          0.0        0.0           NaN   703.0     0.0  Darrie Holcompton   \n",
       "5762        206.0       28.0           0.0     1.0   629.0                NaN   \n",
       "6644          0.0        0.0           0.0     0.0     0.0     Tammyl Fuenton   \n",
       "\n",
       "      Transported Group       Name2  \n",
       "225         False  0242         Sté  \n",
       "234          True  0251      Amsive  \n",
       "807          True  0853   Ageurante  \n",
       "1855         True  1978         NaN  \n",
       "2274        False  2443         NaN  \n",
       "2631        False  2817       Sutty  \n",
       "3091         True  3331         NaN  \n",
       "4548         True  4840         NaN  \n",
       "5252        False  5603     Cluitty  \n",
       "5634        False  5989  Holcompton  \n",
       "5762        False  6108         NaN  \n",
       "6644         True  7006     Fuenton  "
      ]
     },
     "execution_count": 27,
     "metadata": {},
     "output_type": "execute_result"
    }
   ],
   "source": [
    "train[train['HomePlanet'].isnull()]"
   ]
  },
  {
   "cell_type": "code",
   "execution_count": 28,
   "id": "8a325b83-9405-4c2a-ad49-e18e39e493fd",
   "metadata": {},
   "outputs": [
    {
     "data": {
      "text/plain": [
       "Destination    HomePlanet\n",
       "55 Cancri e    Earth          700\n",
       "               Europa         902\n",
       "               Mars           196\n",
       "PSO J318.5-22  Earth          725\n",
       "               Europa          19\n",
       "               Mars            51\n",
       "TRAPPIST-1e    Earth         3177\n",
       "               Europa        1214\n",
       "               Mars          1515\n",
       "dtype: int64"
      ]
     },
     "execution_count": 28,
     "metadata": {},
     "output_type": "execute_result"
    }
   ],
   "source": [
    "train.groupby(['Destination','HomePlanet']).size()"
   ]
  },
  {
   "cell_type": "code",
   "execution_count": 29,
   "id": "3ac14ed6-f4f6-4fee-b365-f129f86f4e08",
   "metadata": {},
   "outputs": [
    {
     "data": {
      "text/plain": [
       "array(['TRAPPIST-1e', 'PSO J318.5-22', '55 Cancri e', nan], dtype=object)"
      ]
     },
     "execution_count": 29,
     "metadata": {},
     "output_type": "execute_result"
    }
   ],
   "source": [
    "train['Destination'].unique()"
   ]
  },
  {
   "cell_type": "code",
   "execution_count": 30,
   "id": "6fa009c2-2d00-455b-a4af-e2c31c7e063d",
   "metadata": {},
   "outputs": [],
   "source": [
    "des_dict={'55 Cancri e':'Europa','PSO J318.5-22':'Earth', 'TRAPPIST-1e':'Earth'}"
   ]
  },
  {
   "cell_type": "code",
   "execution_count": 31,
   "id": "5b3d5c40-14ce-4b6e-9f22-bd2159948f1c",
   "metadata": {},
   "outputs": [
    {
     "data": {
      "text/plain": [
       "{'55 Cancri e': 'Europa', 'PSO J318.5-22': 'Earth', 'TRAPPIST-1e': 'Earth'}"
      ]
     },
     "execution_count": 31,
     "metadata": {},
     "output_type": "execute_result"
    }
   ],
   "source": [
    "des_dict"
   ]
  },
  {
   "cell_type": "code",
   "execution_count": 32,
   "id": "cfd31ad2-cf6e-4c02-897e-6cdd0cacfc61",
   "metadata": {},
   "outputs": [],
   "source": [
    "train['HomePlanet'].fillna(train['Destination'].map(des_dict), inplace=True)\n",
    "# train['HomePlanet'].fillna(train['Destination'].map({'55 Cancri e':'Europa',\n",
    "# 'PSO J318.5-22':'Earth', 'TRAPPIST-1e':'Earth'}), inplace=True)"
   ]
  },
  {
   "cell_type": "code",
   "execution_count": 33,
   "id": "7582bf56-fd9f-4cd0-9d91-dbcaef58da15",
   "metadata": {},
   "outputs": [
    {
     "data": {
      "text/plain": [
       "0"
      ]
     },
     "execution_count": 33,
     "metadata": {},
     "output_type": "execute_result"
    }
   ],
   "source": [
    "train['HomePlanet'].isnull().sum()"
   ]
  },
  {
   "cell_type": "code",
   "execution_count": 34,
   "id": "e685a5df-7cc3-4e59-9bd1-ce43fa5b1c7e",
   "metadata": {},
   "outputs": [
    {
     "data": {
      "text/plain": [
       "False    8291\n",
       "NaN       203\n",
       "True      199\n",
       "Name: VIP, dtype: int64"
      ]
     },
     "execution_count": 34,
     "metadata": {},
     "output_type": "execute_result"
    }
   ],
   "source": [
    "train['VIP'].value_counts(dropna=False)\n",
    "# VIP는 별 관련이 없어서 False로 채움"
   ]
  },
  {
   "cell_type": "code",
   "execution_count": 35,
   "id": "c08e317f-868a-415f-ad64-3030a2d4cd62",
   "metadata": {
    "tags": []
   },
   "outputs": [
    {
     "data": {
      "text/html": [
       "<div>\n",
       "<style scoped>\n",
       "    .dataframe tbody tr th:only-of-type {\n",
       "        vertical-align: middle;\n",
       "    }\n",
       "\n",
       "    .dataframe tbody tr th {\n",
       "        vertical-align: top;\n",
       "    }\n",
       "\n",
       "    .dataframe thead th {\n",
       "        text-align: right;\n",
       "    }\n",
       "</style>\n",
       "<table border=\"1\" class=\"dataframe\">\n",
       "  <thead>\n",
       "    <tr style=\"text-align: right;\">\n",
       "      <th></th>\n",
       "      <th>PassengerId</th>\n",
       "      <th>HomePlanet</th>\n",
       "      <th>CryoSleep</th>\n",
       "      <th>Cabin</th>\n",
       "      <th>Destination</th>\n",
       "      <th>Age</th>\n",
       "      <th>VIP</th>\n",
       "      <th>RoomService</th>\n",
       "      <th>FoodCourt</th>\n",
       "      <th>ShoppingMall</th>\n",
       "      <th>Spa</th>\n",
       "      <th>VRDeck</th>\n",
       "      <th>Name</th>\n",
       "      <th>Transported</th>\n",
       "      <th>Group</th>\n",
       "      <th>Name2</th>\n",
       "    </tr>\n",
       "  </thead>\n",
       "  <tbody>\n",
       "    <tr>\n",
       "      <th>2</th>\n",
       "      <td>0003_01</td>\n",
       "      <td>Europa</td>\n",
       "      <td>False</td>\n",
       "      <td>A/0/S</td>\n",
       "      <td>TRAPPIST-1e</td>\n",
       "      <td>58.0</td>\n",
       "      <td>True</td>\n",
       "      <td>43.0</td>\n",
       "      <td>3576.0</td>\n",
       "      <td>0.0</td>\n",
       "      <td>6715.0</td>\n",
       "      <td>49.0</td>\n",
       "      <td>Altark Susent</td>\n",
       "      <td>False</td>\n",
       "      <td>0003</td>\n",
       "      <td>Susent</td>\n",
       "    </tr>\n",
       "    <tr>\n",
       "      <th>108</th>\n",
       "      <td>0112_01</td>\n",
       "      <td>Europa</td>\n",
       "      <td>False</td>\n",
       "      <td>B/1/S</td>\n",
       "      <td>55 Cancri e</td>\n",
       "      <td>48.0</td>\n",
       "      <td>True</td>\n",
       "      <td>0.0</td>\n",
       "      <td>2537.0</td>\n",
       "      <td>87.0</td>\n",
       "      <td>17.0</td>\n",
       "      <td>13.0</td>\n",
       "      <td>Moth Cowtale</td>\n",
       "      <td>True</td>\n",
       "      <td>0112</td>\n",
       "      <td>Cowtale</td>\n",
       "    </tr>\n",
       "    <tr>\n",
       "      <th>120</th>\n",
       "      <td>0128_01</td>\n",
       "      <td>Mars</td>\n",
       "      <td>False</td>\n",
       "      <td>D/3/S</td>\n",
       "      <td>TRAPPIST-1e</td>\n",
       "      <td>61.0</td>\n",
       "      <td>True</td>\n",
       "      <td>2353.0</td>\n",
       "      <td>334.0</td>\n",
       "      <td>9.0</td>\n",
       "      <td>316.0</td>\n",
       "      <td>2.0</td>\n",
       "      <td>Grohs Fles</td>\n",
       "      <td>False</td>\n",
       "      <td>0128</td>\n",
       "      <td>Fles</td>\n",
       "    </tr>\n",
       "    <tr>\n",
       "      <th>214</th>\n",
       "      <td>0224_01</td>\n",
       "      <td>Mars</td>\n",
       "      <td>False</td>\n",
       "      <td>F/42/S</td>\n",
       "      <td>TRAPPIST-1e</td>\n",
       "      <td>32.0</td>\n",
       "      <td>True</td>\n",
       "      <td>181.0</td>\n",
       "      <td>0.0</td>\n",
       "      <td>5.0</td>\n",
       "      <td>1634.0</td>\n",
       "      <td>0.0</td>\n",
       "      <td>Blues Queen</td>\n",
       "      <td>False</td>\n",
       "      <td>0224</td>\n",
       "      <td>Queen</td>\n",
       "    </tr>\n",
       "    <tr>\n",
       "      <th>291</th>\n",
       "      <td>0321_01</td>\n",
       "      <td>Mars</td>\n",
       "      <td>False</td>\n",
       "      <td>F/61/S</td>\n",
       "      <td>TRAPPIST-1e</td>\n",
       "      <td>59.0</td>\n",
       "      <td>True</td>\n",
       "      <td>1018.0</td>\n",
       "      <td>0.0</td>\n",
       "      <td>209.0</td>\n",
       "      <td>0.0</td>\n",
       "      <td>0.0</td>\n",
       "      <td>Quites Bache</td>\n",
       "      <td>False</td>\n",
       "      <td>0321</td>\n",
       "      <td>Bache</td>\n",
       "    </tr>\n",
       "    <tr>\n",
       "      <th>...</th>\n",
       "      <td>...</td>\n",
       "      <td>...</td>\n",
       "      <td>...</td>\n",
       "      <td>...</td>\n",
       "      <td>...</td>\n",
       "      <td>...</td>\n",
       "      <td>...</td>\n",
       "      <td>...</td>\n",
       "      <td>...</td>\n",
       "      <td>...</td>\n",
       "      <td>...</td>\n",
       "      <td>...</td>\n",
       "      <td>...</td>\n",
       "      <td>...</td>\n",
       "      <td>...</td>\n",
       "      <td>...</td>\n",
       "    </tr>\n",
       "    <tr>\n",
       "      <th>8579</th>\n",
       "      <td>9158_01</td>\n",
       "      <td>Europa</td>\n",
       "      <td>True</td>\n",
       "      <td>B/298/P</td>\n",
       "      <td>55 Cancri e</td>\n",
       "      <td>30.0</td>\n",
       "      <td>True</td>\n",
       "      <td>0.0</td>\n",
       "      <td>0.0</td>\n",
       "      <td>0.0</td>\n",
       "      <td>0.0</td>\n",
       "      <td>0.0</td>\n",
       "      <td>Magnon Maglible</td>\n",
       "      <td>True</td>\n",
       "      <td>9158</td>\n",
       "      <td>Maglible</td>\n",
       "    </tr>\n",
       "    <tr>\n",
       "      <th>8614</th>\n",
       "      <td>9194_02</td>\n",
       "      <td>Europa</td>\n",
       "      <td>False</td>\n",
       "      <td>E/603/S</td>\n",
       "      <td>TRAPPIST-1e</td>\n",
       "      <td>32.0</td>\n",
       "      <td>True</td>\n",
       "      <td>1003.0</td>\n",
       "      <td>909.0</td>\n",
       "      <td>0.0</td>\n",
       "      <td>0.0</td>\n",
       "      <td>15.0</td>\n",
       "      <td>Tachba Subwor</td>\n",
       "      <td>False</td>\n",
       "      <td>9194</td>\n",
       "      <td>Subwor</td>\n",
       "    </tr>\n",
       "    <tr>\n",
       "      <th>8621</th>\n",
       "      <td>9197_02</td>\n",
       "      <td>Europa</td>\n",
       "      <td>False</td>\n",
       "      <td>C/308/P</td>\n",
       "      <td>NaN</td>\n",
       "      <td>41.0</td>\n",
       "      <td>True</td>\n",
       "      <td>0.0</td>\n",
       "      <td>7964.0</td>\n",
       "      <td>0.0</td>\n",
       "      <td>3238.0</td>\n",
       "      <td>5839.0</td>\n",
       "      <td>Aludram Platch</td>\n",
       "      <td>False</td>\n",
       "      <td>9197</td>\n",
       "      <td>Platch</td>\n",
       "    </tr>\n",
       "    <tr>\n",
       "      <th>8652</th>\n",
       "      <td>9230_01</td>\n",
       "      <td>Europa</td>\n",
       "      <td>False</td>\n",
       "      <td>C/342/S</td>\n",
       "      <td>TRAPPIST-1e</td>\n",
       "      <td>36.0</td>\n",
       "      <td>True</td>\n",
       "      <td>0.0</td>\n",
       "      <td>5600.0</td>\n",
       "      <td>715.0</td>\n",
       "      <td>2868.0</td>\n",
       "      <td>971.0</td>\n",
       "      <td>NaN</td>\n",
       "      <td>True</td>\n",
       "      <td>9230</td>\n",
       "      <td>NaN</td>\n",
       "    </tr>\n",
       "    <tr>\n",
       "      <th>8688</th>\n",
       "      <td>9276_01</td>\n",
       "      <td>Europa</td>\n",
       "      <td>False</td>\n",
       "      <td>A/98/P</td>\n",
       "      <td>55 Cancri e</td>\n",
       "      <td>41.0</td>\n",
       "      <td>True</td>\n",
       "      <td>0.0</td>\n",
       "      <td>6819.0</td>\n",
       "      <td>0.0</td>\n",
       "      <td>1643.0</td>\n",
       "      <td>74.0</td>\n",
       "      <td>Gravior Noxnuther</td>\n",
       "      <td>False</td>\n",
       "      <td>9276</td>\n",
       "      <td>Noxnuther</td>\n",
       "    </tr>\n",
       "  </tbody>\n",
       "</table>\n",
       "<p>199 rows × 16 columns</p>\n",
       "</div>"
      ],
      "text/plain": [
       "     PassengerId HomePlanet CryoSleep    Cabin  Destination   Age   VIP  \\\n",
       "2        0003_01     Europa     False    A/0/S  TRAPPIST-1e  58.0  True   \n",
       "108      0112_01     Europa     False    B/1/S  55 Cancri e  48.0  True   \n",
       "120      0128_01       Mars     False    D/3/S  TRAPPIST-1e  61.0  True   \n",
       "214      0224_01       Mars     False   F/42/S  TRAPPIST-1e  32.0  True   \n",
       "291      0321_01       Mars     False   F/61/S  TRAPPIST-1e  59.0  True   \n",
       "...          ...        ...       ...      ...          ...   ...   ...   \n",
       "8579     9158_01     Europa      True  B/298/P  55 Cancri e  30.0  True   \n",
       "8614     9194_02     Europa     False  E/603/S  TRAPPIST-1e  32.0  True   \n",
       "8621     9197_02     Europa     False  C/308/P          NaN  41.0  True   \n",
       "8652     9230_01     Europa     False  C/342/S  TRAPPIST-1e  36.0  True   \n",
       "8688     9276_01     Europa     False   A/98/P  55 Cancri e  41.0  True   \n",
       "\n",
       "      RoomService  FoodCourt  ShoppingMall     Spa  VRDeck               Name  \\\n",
       "2            43.0     3576.0           0.0  6715.0    49.0      Altark Susent   \n",
       "108           0.0     2537.0          87.0    17.0    13.0       Moth Cowtale   \n",
       "120        2353.0      334.0           9.0   316.0     2.0         Grohs Fles   \n",
       "214         181.0        0.0           5.0  1634.0     0.0        Blues Queen   \n",
       "291        1018.0        0.0         209.0     0.0     0.0       Quites Bache   \n",
       "...           ...        ...           ...     ...     ...                ...   \n",
       "8579          0.0        0.0           0.0     0.0     0.0    Magnon Maglible   \n",
       "8614       1003.0      909.0           0.0     0.0    15.0      Tachba Subwor   \n",
       "8621          0.0     7964.0           0.0  3238.0  5839.0     Aludram Platch   \n",
       "8652          0.0     5600.0         715.0  2868.0   971.0                NaN   \n",
       "8688          0.0     6819.0           0.0  1643.0    74.0  Gravior Noxnuther   \n",
       "\n",
       "      Transported Group      Name2  \n",
       "2           False  0003     Susent  \n",
       "108          True  0112    Cowtale  \n",
       "120         False  0128       Fles  \n",
       "214         False  0224      Queen  \n",
       "291         False  0321      Bache  \n",
       "...           ...   ...        ...  \n",
       "8579         True  9158   Maglible  \n",
       "8614        False  9194     Subwor  \n",
       "8621        False  9197     Platch  \n",
       "8652         True  9230        NaN  \n",
       "8688        False  9276  Noxnuther  \n",
       "\n",
       "[199 rows x 16 columns]"
      ]
     },
     "execution_count": 35,
     "metadata": {},
     "output_type": "execute_result"
    }
   ],
   "source": [
    "train[train['VIP']==True]"
   ]
  },
  {
   "cell_type": "code",
   "execution_count": 36,
   "id": "ff98f84a-bd0f-4ba9-9523-6352635fcd8b",
   "metadata": {},
   "outputs": [],
   "source": [
    "train['VIP'].fillna(False, inplace=True)"
   ]
  },
  {
   "cell_type": "code",
   "execution_count": 37,
   "id": "41b7bea1-2963-46ef-8505-9784fd4faaf5",
   "metadata": {},
   "outputs": [
    {
     "data": {
      "text/plain": [
       "0"
      ]
     },
     "execution_count": 37,
     "metadata": {},
     "output_type": "execute_result"
    }
   ],
   "source": [
    "train['VIP'].isnull().sum()"
   ]
  },
  {
   "cell_type": "code",
   "execution_count": 38,
   "id": "e9ab3378-902a-44cf-9676-9eaa9dedaee9",
   "metadata": {
    "tags": []
   },
   "outputs": [
    {
     "data": {
      "text/plain": [
       "PassengerId       0\n",
       "HomePlanet        0\n",
       "CryoSleep       217\n",
       "Cabin           199\n",
       "Destination     182\n",
       "Age             179\n",
       "VIP               0\n",
       "RoomService     181\n",
       "FoodCourt       183\n",
       "ShoppingMall    208\n",
       "Spa             183\n",
       "VRDeck          188\n",
       "Name            200\n",
       "Transported       0\n",
       "Group             0\n",
       "Name2           200\n",
       "dtype: int64"
      ]
     },
     "execution_count": 38,
     "metadata": {},
     "output_type": "execute_result"
    }
   ],
   "source": [
    "train.isnull().sum()"
   ]
  },
  {
   "cell_type": "code",
   "execution_count": 39,
   "id": "3534d61b-be33-4adb-babb-bbbb1dfa2554",
   "metadata": {},
   "outputs": [],
   "source": [
    "fee_list = ['RoomService','FoodCourt','ShoppingMall','Spa','VRDeck']"
   ]
  },
  {
   "cell_type": "code",
   "execution_count": 40,
   "id": "8fbbcb5f-3ab5-4417-be1b-f06c803e42f6",
   "metadata": {},
   "outputs": [
    {
     "data": {
      "text/plain": [
       "0.0"
      ]
     },
     "execution_count": 40,
     "metadata": {},
     "output_type": "execute_result"
    }
   ],
   "source": [
    "train['RoomService'].median()"
   ]
  },
  {
   "cell_type": "code",
   "execution_count": 41,
   "id": "d1820ff8-2c96-4961-9f34-8aaf16c42908",
   "metadata": {},
   "outputs": [
    {
     "data": {
      "text/plain": [
       "['RoomService', 'FoodCourt', 'ShoppingMall', 'Spa', 'VRDeck']"
      ]
     },
     "execution_count": 41,
     "metadata": {},
     "output_type": "execute_result"
    }
   ],
   "source": [
    "fee_list"
   ]
  },
  {
   "cell_type": "code",
   "execution_count": 42,
   "id": "ef5ae0f4-8d21-4dd9-bb53-f00b49c3ff0f",
   "metadata": {},
   "outputs": [
    {
     "data": {
      "text/plain": [
       "0.0"
      ]
     },
     "execution_count": 42,
     "metadata": {},
     "output_type": "execute_result"
    }
   ],
   "source": [
    "train['RoomService'].median()"
   ]
  },
  {
   "cell_type": "code",
   "execution_count": 43,
   "id": "0a3e6c72-1e08-4e8e-aaeb-afdc3c635e73",
   "metadata": {},
   "outputs": [
    {
     "data": {
      "text/plain": [
       "0.0"
      ]
     },
     "execution_count": 43,
     "metadata": {},
     "output_type": "execute_result"
    }
   ],
   "source": [
    "train['FoodCourt'].median()"
   ]
  },
  {
   "cell_type": "code",
   "execution_count": 44,
   "id": "397d81e6-fb1d-497c-ac9d-e43f76a970d1",
   "metadata": {},
   "outputs": [],
   "source": [
    "for col in fee_list:\n",
    "    train[col].fillna(train[col].median(),inplace=True)"
   ]
  },
  {
   "cell_type": "code",
   "execution_count": 45,
   "id": "1b1df89d-ddd7-4ca3-87c3-63e97b65e007",
   "metadata": {},
   "outputs": [],
   "source": [
    "train['Fee'] = train['RoomService']+train['FoodCourt']+train['ShoppingMall']+train['Spa']+train['VRDeck']         "
   ]
  },
  {
   "cell_type": "code",
   "execution_count": 46,
   "id": "f4249ff4-ebde-428b-8425-2c80984d3a74",
   "metadata": {},
   "outputs": [
    {
     "data": {
      "text/plain": [
       "0"
      ]
     },
     "execution_count": 46,
     "metadata": {},
     "output_type": "execute_result"
    }
   ],
   "source": [
    "train['Fee'].isnull().sum()"
   ]
  },
  {
   "cell_type": "code",
   "execution_count": 47,
   "id": "33afd42d-f4b8-405e-bc7d-0b0f89702ab7",
   "metadata": {},
   "outputs": [],
   "source": [
    "train['deck'] = train['Cabin'].str.split('/').str[0]"
   ]
  },
  {
   "cell_type": "code",
   "execution_count": 48,
   "id": "ab36416f-1943-4f75-b18f-24ccffe8e3dd",
   "metadata": {},
   "outputs": [],
   "source": [
    "train['side'] = train['Cabin'].str.split('/').str[-1]"
   ]
  },
  {
   "cell_type": "code",
   "execution_count": 49,
   "id": "d615e388-1663-42e4-a0b4-bbf65af8cb57",
   "metadata": {},
   "outputs": [
    {
     "data": {
      "text/plain": [
       "0          B/0/P\n",
       "1          F/0/S\n",
       "2          A/0/S\n",
       "3          A/0/S\n",
       "4          F/1/S\n",
       "          ...   \n",
       "8688      A/98/P\n",
       "8689    G/1499/S\n",
       "8690    G/1500/S\n",
       "8691     E/608/S\n",
       "8692     E/608/S\n",
       "Name: Cabin, Length: 8693, dtype: object"
      ]
     },
     "execution_count": 49,
     "metadata": {},
     "output_type": "execute_result"
    }
   ],
   "source": [
    "train['Cabin']"
   ]
  },
  {
   "cell_type": "code",
   "execution_count": 50,
   "id": "14c3d0c9-d4ed-4b0d-825b-805b71321044",
   "metadata": {},
   "outputs": [
    {
     "data": {
      "text/plain": [
       "HomePlanet  deck\n",
       "Earth       D          1\n",
       "            E        404\n",
       "            F       1652\n",
       "            G       2559\n",
       "Europa      A        256\n",
       "            B        779\n",
       "            C        747\n",
       "            D        192\n",
       "            E        133\n",
       "            T          5\n",
       "Mars        D        285\n",
       "            E        339\n",
       "            F       1142\n",
       "dtype: int64"
      ]
     },
     "execution_count": 50,
     "metadata": {},
     "output_type": "execute_result"
    }
   ],
   "source": [
    "train.groupby(['HomePlanet','deck']).size()"
   ]
  },
  {
   "cell_type": "markdown",
   "id": "8883194b-4391-4da2-ab7a-3d6cd6dadf80",
   "metadata": {},
   "source": [
    "Earth : G , Europa : B"
   ]
  },
  {
   "cell_type": "code",
   "execution_count": 51,
   "id": "c757267c-5d9b-4e1c-8584-207289b81823",
   "metadata": {},
   "outputs": [],
   "source": [
    "train['deck'].fillna(train['HomePlanet'].map({'Earth':'G','Europa':'B', 'Mars':'F'}), inplace=True)"
   ]
  },
  {
   "cell_type": "code",
   "execution_count": 52,
   "id": "ea35d344-8c37-43a9-89d7-1f9fb9a8b030",
   "metadata": {},
   "outputs": [
    {
     "data": {
      "text/plain": [
       "0"
      ]
     },
     "execution_count": 52,
     "metadata": {},
     "output_type": "execute_result"
    }
   ],
   "source": [
    "train['deck'].isnull().sum()"
   ]
  },
  {
   "cell_type": "code",
   "execution_count": 53,
   "id": "769db8b2-4524-4418-baa4-8c1780f9f2dd",
   "metadata": {},
   "outputs": [],
   "source": [
    "side_group = train.groupby(['Group','side']).size().reset_index()"
   ]
  },
  {
   "cell_type": "code",
   "execution_count": 54,
   "id": "df0182d4-541c-42ac-9d47-7107a25aaa0d",
   "metadata": {},
   "outputs": [
    {
     "data": {
      "text/html": [
       "<div>\n",
       "<style scoped>\n",
       "    .dataframe tbody tr th:only-of-type {\n",
       "        vertical-align: middle;\n",
       "    }\n",
       "\n",
       "    .dataframe tbody tr th {\n",
       "        vertical-align: top;\n",
       "    }\n",
       "\n",
       "    .dataframe thead th {\n",
       "        text-align: right;\n",
       "    }\n",
       "</style>\n",
       "<table border=\"1\" class=\"dataframe\">\n",
       "  <thead>\n",
       "    <tr style=\"text-align: right;\">\n",
       "      <th></th>\n",
       "      <th>Group</th>\n",
       "      <th>side</th>\n",
       "      <th>0</th>\n",
       "    </tr>\n",
       "  </thead>\n",
       "  <tbody>\n",
       "  </tbody>\n",
       "</table>\n",
       "</div>"
      ],
      "text/plain": [
       "Empty DataFrame\n",
       "Columns: [Group, side, 0]\n",
       "Index: []"
      ]
     },
     "execution_count": 54,
     "metadata": {},
     "output_type": "execute_result"
    }
   ],
   "source": [
    "side_group[side_group['Group'].duplicated()]"
   ]
  },
  {
   "cell_type": "code",
   "execution_count": 55,
   "id": "a2c038b0-fec2-4730-a5f9-01db645e0db9",
   "metadata": {},
   "outputs": [],
   "source": [
    "side_dict={}\n",
    "for s,g in zip(side_group['Group'], side_group['side']):\n",
    "    side_dict[s]=g"
   ]
  },
  {
   "cell_type": "code",
   "execution_count": 56,
   "id": "64c4b226-3957-4fcc-9d07-e2ac8064ebdb",
   "metadata": {
    "collapsed": true,
    "jupyter": {
     "outputs_hidden": true
    },
    "tags": []
   },
   "outputs": [
    {
     "data": {
      "text/plain": [
       "{'0001': 'P',\n",
       " '0002': 'S',\n",
       " '0003': 'S',\n",
       " '0004': 'S',\n",
       " '0005': 'P',\n",
       " '0006': 'S',\n",
       " '0007': 'S',\n",
       " '0008': 'P',\n",
       " '0009': 'P',\n",
       " '0010': 'S',\n",
       " '0011': 'P',\n",
       " '0014': 'P',\n",
       " '0015': 'P',\n",
       " '0016': 'P',\n",
       " '0017': 'P',\n",
       " '0020': 'S',\n",
       " '0022': 'P',\n",
       " '0024': 'S',\n",
       " '0025': 'S',\n",
       " '0026': 'P',\n",
       " '0028': 'P',\n",
       " '0030': 'S',\n",
       " '0031': 'P',\n",
       " '0034': 'S',\n",
       " '0035': 'P',\n",
       " '0036': 'S',\n",
       " '0038': 'S',\n",
       " '0039': 'P',\n",
       " '0041': 'P',\n",
       " '0043': 'P',\n",
       " '0044': 'P',\n",
       " '0045': 'P',\n",
       " '0050': 'S',\n",
       " '0051': 'S',\n",
       " '0052': 'S',\n",
       " '0053': 'S',\n",
       " '0056': 'S',\n",
       " '0058': 'S',\n",
       " '0061': 'S',\n",
       " '0062': 'S',\n",
       " '0064': 'S',\n",
       " '0066': 'P',\n",
       " '0067': 'S',\n",
       " '0068': 'S',\n",
       " '0069': 'S',\n",
       " '0070': 'P',\n",
       " '0071': 'P',\n",
       " '0072': 'S',\n",
       " '0073': 'P',\n",
       " '0074': 'S',\n",
       " '0076': 'S',\n",
       " '0077': 'P',\n",
       " '0078': 'S',\n",
       " '0081': 'S',\n",
       " '0082': 'P',\n",
       " '0084': 'S',\n",
       " '0085': 'S',\n",
       " '0086': 'P',\n",
       " '0088': 'S',\n",
       " '0090': 'S',\n",
       " '0091': 'S',\n",
       " '0092': 'P',\n",
       " '0097': 'S',\n",
       " '0098': 'P',\n",
       " '0099': 'P',\n",
       " '0102': 'S',\n",
       " '0103': 'S',\n",
       " '0105': 'P',\n",
       " '0107': 'S',\n",
       " '0108': 'S',\n",
       " '0110': 'P',\n",
       " '0111': 'S',\n",
       " '0112': 'S',\n",
       " '0113': 'P',\n",
       " '0114': 'S',\n",
       " '0115': 'P',\n",
       " '0116': 'P',\n",
       " '0119': 'P',\n",
       " '0120': 'P',\n",
       " '0122': 'S',\n",
       " '0123': 'P',\n",
       " '0126': 'S',\n",
       " '0127': 'S',\n",
       " '0128': 'S',\n",
       " '0129': 'S',\n",
       " '0133': 'S',\n",
       " '0134': 'P',\n",
       " '0136': 'S',\n",
       " '0138': 'P',\n",
       " '0139': 'S',\n",
       " '0140': 'P',\n",
       " '0141': 'P',\n",
       " '0144': 'S',\n",
       " '0146': 'S',\n",
       " '0147': 'S',\n",
       " '0148': 'P',\n",
       " '0149': 'S',\n",
       " '0151': 'P',\n",
       " '0152': 'P',\n",
       " '0160': 'P',\n",
       " '0163': 'P',\n",
       " '0164': 'S',\n",
       " '0165': 'P',\n",
       " '0167': 'S',\n",
       " '0169': 'P',\n",
       " '0170': 'S',\n",
       " '0171': 'S',\n",
       " '0172': 'P',\n",
       " '0173': 'S',\n",
       " '0174': 'P',\n",
       " '0177': 'S',\n",
       " '0178': 'S',\n",
       " '0179': 'P',\n",
       " '0181': 'P',\n",
       " '0182': 'P',\n",
       " '0183': 'S',\n",
       " '0186': 'P',\n",
       " '0188': 'S',\n",
       " '0189': 'P',\n",
       " '0190': 'S',\n",
       " '0192': 'P',\n",
       " '0193': 'P',\n",
       " '0195': 'P',\n",
       " '0196': 'P',\n",
       " '0197': 'P',\n",
       " '0198': 'P',\n",
       " '0199': 'S',\n",
       " '0200': 'P',\n",
       " '0201': 'S',\n",
       " '0202': 'P',\n",
       " '0203': 'S',\n",
       " '0205': 'S',\n",
       " '0206': 'S',\n",
       " '0207': 'P',\n",
       " '0210': 'P',\n",
       " '0211': 'P',\n",
       " '0212': 'P',\n",
       " '0213': 'P',\n",
       " '0216': 'S',\n",
       " '0217': 'P',\n",
       " '0219': 'P',\n",
       " '0220': 'P',\n",
       " '0221': 'S',\n",
       " '0222': 'S',\n",
       " '0223': 'S',\n",
       " '0224': 'S',\n",
       " '0225': 'P',\n",
       " '0229': 'S',\n",
       " '0231': 'S',\n",
       " '0232': 'S',\n",
       " '0233': 'S',\n",
       " '0234': 'P',\n",
       " '0237': 'P',\n",
       " '0240': 'P',\n",
       " '0241': 'P',\n",
       " '0242': 'S',\n",
       " '0243': 'S',\n",
       " '0244': 'S',\n",
       " '0245': 'P',\n",
       " '0246': 'P',\n",
       " '0248': 'S',\n",
       " '0250': 'S',\n",
       " '0251': 'S',\n",
       " '0252': 'P',\n",
       " '0253': 'P',\n",
       " '0254': 'P',\n",
       " '0255': 'S',\n",
       " '0257': 'S',\n",
       " '0258': 'S',\n",
       " '0260': 'S',\n",
       " '0261': 'P',\n",
       " '0263': 'P',\n",
       " '0265': 'S',\n",
       " '0267': 'S',\n",
       " '0269': 'S',\n",
       " '0270': 'P',\n",
       " '0275': 'S',\n",
       " '0277': 'P',\n",
       " '0278': 'P',\n",
       " '0281': 'P',\n",
       " '0282': 'S',\n",
       " '0283': 'P',\n",
       " '0285': 'P',\n",
       " '0286': 'P',\n",
       " '0287': 'P',\n",
       " '0288': 'S',\n",
       " '0289': 'S',\n",
       " '0290': 'S',\n",
       " '0291': 'S',\n",
       " '0294': 'S',\n",
       " '0297': 'P',\n",
       " '0298': 'P',\n",
       " '0302': 'P',\n",
       " '0303': 'S',\n",
       " '0304': 'S',\n",
       " '0305': 'P',\n",
       " '0306': 'S',\n",
       " '0307': 'S',\n",
       " '0309': 'S',\n",
       " '0313': 'P',\n",
       " '0314': 'P',\n",
       " '0315': 'S',\n",
       " '0316': 'S',\n",
       " '0320': 'S',\n",
       " '0321': 'S',\n",
       " '0322': 'S',\n",
       " '0324': 'P',\n",
       " '0326': 'S',\n",
       " '0330': 'S',\n",
       " '0331': 'P',\n",
       " '0333': 'P',\n",
       " '0334': 'S',\n",
       " '0336': 'P',\n",
       " '0337': 'S',\n",
       " '0338': 'S',\n",
       " '0340': 'S',\n",
       " '0341': 'P',\n",
       " '0343': 'P',\n",
       " '0345': 'S',\n",
       " '0346': 'P',\n",
       " '0347': 'S',\n",
       " '0348': 'P',\n",
       " '0350': 'P',\n",
       " '0352': 'P',\n",
       " '0356': 'P',\n",
       " '0357': 'S',\n",
       " '0358': 'S',\n",
       " '0359': 'S',\n",
       " '0360': 'S',\n",
       " '0361': 'S',\n",
       " '0365': 'S',\n",
       " '0368': 'P',\n",
       " '0369': 'S',\n",
       " '0370': 'P',\n",
       " '0371': 'P',\n",
       " '0372': 'P',\n",
       " '0373': 'P',\n",
       " '0375': 'P',\n",
       " '0376': 'S',\n",
       " '0377': 'S',\n",
       " '0378': 'S',\n",
       " '0379': 'P',\n",
       " '0381': 'P',\n",
       " '0382': 'P',\n",
       " '0383': 'S',\n",
       " '0384': 'S',\n",
       " '0385': 'P',\n",
       " '0387': 'P',\n",
       " '0388': 'S',\n",
       " '0389': 'P',\n",
       " '0391': 'P',\n",
       " '0392': 'P',\n",
       " '0395': 'P',\n",
       " '0396': 'S',\n",
       " '0397': 'S',\n",
       " '0398': 'S',\n",
       " '0401': 'S',\n",
       " '0402': 'S',\n",
       " '0403': 'P',\n",
       " '0405': 'P',\n",
       " '0407': 'P',\n",
       " '0408': 'P',\n",
       " '0409': 'S',\n",
       " '0410': 'S',\n",
       " '0411': 'P',\n",
       " '0412': 'P',\n",
       " '0413': 'P',\n",
       " '0415': 'S',\n",
       " '0417': 'P',\n",
       " '0423': 'P',\n",
       " '0425': 'P',\n",
       " '0427': 'P',\n",
       " '0428': 'S',\n",
       " '0429': 'S',\n",
       " '0430': 'S',\n",
       " '0431': 'P',\n",
       " '0432': 'S',\n",
       " '0433': 'P',\n",
       " '0434': 'S',\n",
       " '0435': 'S',\n",
       " '0436': 'S',\n",
       " '0437': 'S',\n",
       " '0438': 'S',\n",
       " '0439': 'P',\n",
       " '0441': 'S',\n",
       " '0442': 'P',\n",
       " '0444': 'P',\n",
       " '0445': 'S',\n",
       " '0446': 'P',\n",
       " '0447': 'S',\n",
       " '0448': 'P',\n",
       " '0449': 'S',\n",
       " '0452': 'S',\n",
       " '0453': 'S',\n",
       " '0454': 'S',\n",
       " '0456': 'S',\n",
       " '0457': 'P',\n",
       " '0458': 'S',\n",
       " '0459': 'S',\n",
       " '0460': 'S',\n",
       " '0461': 'S',\n",
       " '0462': 'S',\n",
       " '0463': 'P',\n",
       " '0465': 'P',\n",
       " '0466': 'P',\n",
       " '0470': 'S',\n",
       " '0471': 'P',\n",
       " '0472': 'S',\n",
       " '0474': 'S',\n",
       " '0475': 'P',\n",
       " '0476': 'P',\n",
       " '0477': 'P',\n",
       " '0480': 'P',\n",
       " '0481': 'S',\n",
       " '0482': 'S',\n",
       " '0485': 'S',\n",
       " '0487': 'S',\n",
       " '0488': 'P',\n",
       " '0490': 'S',\n",
       " '0498': 'S',\n",
       " '0499': 'S',\n",
       " '0500': 'P',\n",
       " '0501': 'P',\n",
       " '0503': 'S',\n",
       " '0504': 'S',\n",
       " '0506': 'S',\n",
       " '0507': 'S',\n",
       " '0510': 'P',\n",
       " '0512': 'S',\n",
       " '0513': 'P',\n",
       " '0515': 'S',\n",
       " '0516': 'S',\n",
       " '0517': 'P',\n",
       " '0518': 'S',\n",
       " '0519': 'S',\n",
       " '0520': 'S',\n",
       " '0521': 'S',\n",
       " '0522': 'P',\n",
       " '0523': 'S',\n",
       " '0527': 'S',\n",
       " '0528': 'P',\n",
       " '0529': 'P',\n",
       " '0531': 'P',\n",
       " '0533': 'P',\n",
       " '0534': 'P',\n",
       " '0537': 'P',\n",
       " '0538': 'P',\n",
       " '0539': 'P',\n",
       " '0540': 'S',\n",
       " '0542': 'P',\n",
       " '0545': 'P',\n",
       " '0546': 'S',\n",
       " '0547': 'S',\n",
       " '0548': 'S',\n",
       " '0549': 'S',\n",
       " '0550': 'S',\n",
       " '0551': 'S',\n",
       " '0552': 'S',\n",
       " '0553': 'P',\n",
       " '0555': 'P',\n",
       " '0556': 'S',\n",
       " '0559': 'S',\n",
       " '0560': 'S',\n",
       " '0561': 'S',\n",
       " '0563': 'P',\n",
       " '0564': 'P',\n",
       " '0565': 'P',\n",
       " '0566': 'S',\n",
       " '0567': 'S',\n",
       " '0568': 'S',\n",
       " '0569': 'P',\n",
       " '0570': 'S',\n",
       " '0571': 'P',\n",
       " '0572': 'S',\n",
       " '0573': 'P',\n",
       " '0575': 'P',\n",
       " '0576': 'S',\n",
       " '0577': 'P',\n",
       " '0579': 'S',\n",
       " '0580': 'P',\n",
       " '0581': 'S',\n",
       " '0582': 'P',\n",
       " '0583': 'S',\n",
       " '0585': 'P',\n",
       " '0586': 'P',\n",
       " '0587': 'P',\n",
       " '0588': 'P',\n",
       " '0589': 'P',\n",
       " '0590': 'P',\n",
       " '0591': 'S',\n",
       " '0593': 'P',\n",
       " '0594': 'S',\n",
       " '0596': 'P',\n",
       " '0597': 'P',\n",
       " '0598': 'S',\n",
       " '0599': 'P',\n",
       " '0600': 'S',\n",
       " '0602': 'P',\n",
       " '0603': 'P',\n",
       " '0607': 'P',\n",
       " '0608': 'P',\n",
       " '0609': 'P',\n",
       " '0610': 'P',\n",
       " '0611': 'S',\n",
       " '0612': 'P',\n",
       " '0614': 'S',\n",
       " '0615': 'S',\n",
       " '0618': 'P',\n",
       " '0619': 'S',\n",
       " '0623': 'S',\n",
       " '0628': 'P',\n",
       " '0629': 'P',\n",
       " '0630': 'S',\n",
       " '0631': 'S',\n",
       " '0633': 'P',\n",
       " '0634': 'P',\n",
       " '0635': 'S',\n",
       " '0636': 'P',\n",
       " '0637': 'S',\n",
       " '0638': 'P',\n",
       " '0639': 'P',\n",
       " '0641': 'S',\n",
       " '0642': 'S',\n",
       " '0643': 'P',\n",
       " '0644': 'P',\n",
       " '0645': 'P',\n",
       " '0646': 'S',\n",
       " '0647': 'S',\n",
       " '0650': 'S',\n",
       " '0653': 'S',\n",
       " '0655': 'P',\n",
       " '0656': 'P',\n",
       " '0657': 'S',\n",
       " '0658': 'S',\n",
       " '0659': 'S',\n",
       " '0660': 'S',\n",
       " '0661': 'P',\n",
       " '0663': 'P',\n",
       " '0664': 'S',\n",
       " '0665': 'P',\n",
       " '0668': 'P',\n",
       " '0669': 'P',\n",
       " '0671': 'P',\n",
       " '0672': 'P',\n",
       " '0674': 'S',\n",
       " '0677': 'S',\n",
       " '0678': 'S',\n",
       " '0679': 'S',\n",
       " '0680': 'P',\n",
       " '0682': 'S',\n",
       " '0683': 'P',\n",
       " '0684': 'P',\n",
       " '0685': 'P',\n",
       " '0686': 'P',\n",
       " '0687': 'S',\n",
       " '0688': 'S',\n",
       " '0689': 'S',\n",
       " '0690': 'S',\n",
       " '0691': 'S',\n",
       " '0693': 'S',\n",
       " '0696': 'S',\n",
       " '0697': 'P',\n",
       " '0699': 'S',\n",
       " '0701': 'S',\n",
       " '0702': 'S',\n",
       " '0703': 'S',\n",
       " '0704': 'P',\n",
       " '0705': 'P',\n",
       " '0707': 'S',\n",
       " '0709': 'S',\n",
       " '0710': 'P',\n",
       " '0712': 'P',\n",
       " '0713': 'S',\n",
       " '0714': 'P',\n",
       " '0718': 'P',\n",
       " '0719': 'P',\n",
       " '0724': 'S',\n",
       " '0726': 'P',\n",
       " '0727': 'S',\n",
       " '0728': 'S',\n",
       " '0729': 'S',\n",
       " '0733': 'P',\n",
       " '0734': 'P',\n",
       " '0736': 'P',\n",
       " '0737': 'S',\n",
       " '0738': 'P',\n",
       " '0740': 'P',\n",
       " '0743': 'S',\n",
       " '0746': 'S',\n",
       " '0750': 'S',\n",
       " '0753': 'P',\n",
       " '0754': 'P',\n",
       " '0756': 'S',\n",
       " '0757': 'P',\n",
       " '0761': 'P',\n",
       " '0762': 'S',\n",
       " '0764': 'S',\n",
       " '0765': 'S',\n",
       " '0767': 'S',\n",
       " '0768': 'P',\n",
       " '0769': 'S',\n",
       " '0770': 'S',\n",
       " '0771': 'P',\n",
       " '0772': 'S',\n",
       " '0773': 'S',\n",
       " '0776': 'P',\n",
       " '0777': 'P',\n",
       " '0779': 'P',\n",
       " '0781': 'S',\n",
       " '0782': 'P',\n",
       " '0784': 'S',\n",
       " '0785': 'P',\n",
       " '0786': 'P',\n",
       " '0787': 'P',\n",
       " '0788': 'P',\n",
       " '0789': 'S',\n",
       " '0790': 'S',\n",
       " '0791': 'P',\n",
       " '0793': 'P',\n",
       " '0794': 'S',\n",
       " '0795': 'S',\n",
       " '0796': 'S',\n",
       " '0797': 'S',\n",
       " '0798': 'S',\n",
       " '0799': 'P',\n",
       " '0802': 'S',\n",
       " '0805': 'P',\n",
       " '0806': 'S',\n",
       " '0808': 'S',\n",
       " '0809': 'S',\n",
       " '0811': 'S',\n",
       " '0813': 'P',\n",
       " '0815': 'S',\n",
       " '0816': 'S',\n",
       " '0817': 'P',\n",
       " '0818': 'S',\n",
       " '0819': 'S',\n",
       " '0820': 'S',\n",
       " '0822': 'S',\n",
       " '0823': 'S',\n",
       " '0824': 'S',\n",
       " '0825': 'P',\n",
       " '0828': 'S',\n",
       " '0829': 'P',\n",
       " '0830': 'P',\n",
       " '0834': 'P',\n",
       " '0835': 'S',\n",
       " '0836': 'S',\n",
       " '0839': 'S',\n",
       " '0840': 'P',\n",
       " '0845': 'S',\n",
       " '0846': 'S',\n",
       " '0848': 'P',\n",
       " '0849': 'S',\n",
       " '0850': 'S',\n",
       " '0851': 'P',\n",
       " '0853': 'S',\n",
       " '0859': 'S',\n",
       " '0860': 'P',\n",
       " '0863': 'S',\n",
       " '0865': 'S',\n",
       " '0867': 'S',\n",
       " '0868': 'S',\n",
       " '0869': 'S',\n",
       " '0870': 'P',\n",
       " '0871': 'S',\n",
       " '0873': 'P',\n",
       " '0874': 'S',\n",
       " '0875': 'S',\n",
       " '0876': 'S',\n",
       " '0877': 'P',\n",
       " '0878': 'S',\n",
       " '0881': 'S',\n",
       " '0883': 'P',\n",
       " '0885': 'S',\n",
       " '0889': 'P',\n",
       " '0890': 'P',\n",
       " '0893': 'P',\n",
       " '0898': 'S',\n",
       " '0899': 'P',\n",
       " '0901': 'S',\n",
       " '0902': 'P',\n",
       " '0903': 'S',\n",
       " '0904': 'P',\n",
       " '0905': 'P',\n",
       " '0906': 'S',\n",
       " '0907': 'P',\n",
       " '0910': 'S',\n",
       " '0911': 'P',\n",
       " '0912': 'S',\n",
       " '0913': 'P',\n",
       " '0915': 'S',\n",
       " '0918': 'S',\n",
       " '0919': 'P',\n",
       " '0921': 'S',\n",
       " '0922': 'P',\n",
       " '0923': 'S',\n",
       " '0924': 'S',\n",
       " '0925': 'P',\n",
       " '0926': 'S',\n",
       " '0927': 'S',\n",
       " '0928': 'P',\n",
       " '0930': 'P',\n",
       " '0931': 'P',\n",
       " '0933': 'P',\n",
       " '0935': 'P',\n",
       " '0938': 'S',\n",
       " '0939': 'P',\n",
       " '0940': 'P',\n",
       " '0941': 'P',\n",
       " '0942': 'P',\n",
       " '0944': 'P',\n",
       " '0946': 'P',\n",
       " '0947': 'P',\n",
       " '0949': 'P',\n",
       " '0951': 'S',\n",
       " '0952': 'S',\n",
       " '0953': 'P',\n",
       " '0955': 'S',\n",
       " '0956': 'S',\n",
       " '0957': 'P',\n",
       " '0960': 'S',\n",
       " '0961': 'P',\n",
       " '0964': 'P',\n",
       " '0965': 'S',\n",
       " '0966': 'S',\n",
       " '0968': 'P',\n",
       " '0969': 'P',\n",
       " '0970': 'P',\n",
       " '0971': 'P',\n",
       " '0972': 'P',\n",
       " '0975': 'P',\n",
       " '0976': 'S',\n",
       " '0978': 'P',\n",
       " '0979': 'S',\n",
       " '0982': 'P',\n",
       " '0983': 'S',\n",
       " '0984': 'S',\n",
       " '0985': 'P',\n",
       " '0987': 'P',\n",
       " '0988': 'S',\n",
       " '0989': 'P',\n",
       " '0990': 'S',\n",
       " '0991': 'S',\n",
       " '0992': 'S',\n",
       " '0993': 'S',\n",
       " '0994': 'S',\n",
       " '0995': 'P',\n",
       " '0997': 'S',\n",
       " '0998': 'P',\n",
       " '1000': 'P',\n",
       " '1001': 'S',\n",
       " '1002': 'S',\n",
       " '1004': 'S',\n",
       " '1005': 'S',\n",
       " '1006': 'S',\n",
       " '1008': 'S',\n",
       " '1011': 'P',\n",
       " '1012': 'P',\n",
       " '1013': 'S',\n",
       " '1014': 'P',\n",
       " '1015': 'S',\n",
       " '1017': 'S',\n",
       " '1018': 'P',\n",
       " '1019': 'S',\n",
       " '1020': 'P',\n",
       " '1024': 'P',\n",
       " '1025': 'P',\n",
       " '1026': 'S',\n",
       " '1027': 'P',\n",
       " '1029': 'P',\n",
       " '1030': 'P',\n",
       " '1031': 'S',\n",
       " '1032': 'P',\n",
       " '1033': 'P',\n",
       " '1034': 'P',\n",
       " '1035': 'P',\n",
       " '1036': 'S',\n",
       " '1038': 'S',\n",
       " '1040': 'S',\n",
       " '1043': 'P',\n",
       " '1045': 'P',\n",
       " '1046': 'S',\n",
       " '1047': 'P',\n",
       " '1048': 'P',\n",
       " '1049': 'P',\n",
       " '1051': 'S',\n",
       " '1052': 'S',\n",
       " '1053': 'S',\n",
       " '1054': 'S',\n",
       " '1056': 'P',\n",
       " '1057': 'P',\n",
       " '1058': 'S',\n",
       " '1060': 'S',\n",
       " '1062': 'P',\n",
       " '1063': 'P',\n",
       " '1065': 'S',\n",
       " '1066': 'P',\n",
       " '1068': 'S',\n",
       " '1071': 'P',\n",
       " '1075': 'S',\n",
       " '1076': 'P',\n",
       " '1077': 'P',\n",
       " '1078': 'P',\n",
       " '1079': 'P',\n",
       " '1080': 'S',\n",
       " '1082': 'S',\n",
       " '1083': 'S',\n",
       " '1084': 'S',\n",
       " '1085': 'P',\n",
       " '1086': 'P',\n",
       " '1088': 'S',\n",
       " '1089': 'P',\n",
       " '1091': 'P',\n",
       " '1093': 'P',\n",
       " '1094': 'P',\n",
       " '1096': 'S',\n",
       " '1097': 'S',\n",
       " '1099': 'P',\n",
       " '1100': 'P',\n",
       " '1102': 'P',\n",
       " '1105': 'S',\n",
       " '1108': 'S',\n",
       " '1110': 'S',\n",
       " '1112': 'P',\n",
       " '1113': 'S',\n",
       " '1114': 'S',\n",
       " '1115': 'S',\n",
       " '1116': 'S',\n",
       " '1117': 'P',\n",
       " '1121': 'P',\n",
       " '1123': 'P',\n",
       " '1127': 'S',\n",
       " '1129': 'S',\n",
       " '1130': 'S',\n",
       " '1133': 'P',\n",
       " '1136': 'S',\n",
       " '1140': 'S',\n",
       " '1141': 'S',\n",
       " '1142': 'P',\n",
       " '1144': 'S',\n",
       " '1146': 'P',\n",
       " '1147': 'P',\n",
       " '1148': 'P',\n",
       " '1149': 'S',\n",
       " '1150': 'S',\n",
       " '1152': 'S',\n",
       " '1153': 'P',\n",
       " '1154': 'P',\n",
       " '1155': 'P',\n",
       " '1156': 'S',\n",
       " '1161': 'S',\n",
       " '1162': 'S',\n",
       " '1163': 'P',\n",
       " '1165': 'P',\n",
       " '1166': 'P',\n",
       " '1167': 'P',\n",
       " '1168': 'P',\n",
       " '1169': 'S',\n",
       " '1170': 'S',\n",
       " '1173': 'S',\n",
       " '1174': 'P',\n",
       " '1175': 'S',\n",
       " '1177': 'P',\n",
       " '1178': 'S',\n",
       " '1179': 'S',\n",
       " '1180': 'S',\n",
       " '1182': 'P',\n",
       " '1185': 'P',\n",
       " '1186': 'S',\n",
       " '1187': 'S',\n",
       " '1188': 'P',\n",
       " '1190': 'P',\n",
       " '1191': 'S',\n",
       " '1192': 'P',\n",
       " '1193': 'S',\n",
       " '1195': 'P',\n",
       " '1197': 'P',\n",
       " '1199': 'P',\n",
       " '1203': 'S',\n",
       " '1206': 'P',\n",
       " '1208': 'P',\n",
       " '1210': 'P',\n",
       " '1211': 'S',\n",
       " '1212': 'P',\n",
       " '1213': 'P',\n",
       " '1214': 'P',\n",
       " '1215': 'S',\n",
       " '1216': 'P',\n",
       " '1218': 'P',\n",
       " '1220': 'P',\n",
       " '1221': 'S',\n",
       " '1222': 'P',\n",
       " '1223': 'S',\n",
       " '1225': 'P',\n",
       " '1228': 'S',\n",
       " '1229': 'P',\n",
       " '1230': 'S',\n",
       " '1231': 'P',\n",
       " '1232': 'S',\n",
       " '1233': 'P',\n",
       " '1234': 'S',\n",
       " '1235': 'S',\n",
       " '1236': 'P',\n",
       " '1238': 'S',\n",
       " '1239': 'P',\n",
       " '1240': 'S',\n",
       " '1242': 'P',\n",
       " '1243': 'P',\n",
       " '1246': 'P',\n",
       " '1248': 'S',\n",
       " '1250': 'S',\n",
       " '1254': 'S',\n",
       " '1255': 'S',\n",
       " '1256': 'S',\n",
       " '1258': 'P',\n",
       " '1259': 'S',\n",
       " '1260': 'P',\n",
       " '1261': 'P',\n",
       " '1263': 'S',\n",
       " '1264': 'P',\n",
       " '1267': 'S',\n",
       " '1269': 'P',\n",
       " '1271': 'P',\n",
       " '1273': 'S',\n",
       " '1274': 'P',\n",
       " '1278': 'P',\n",
       " '1279': 'P',\n",
       " '1280': 'P',\n",
       " '1281': 'S',\n",
       " '1282': 'P',\n",
       " '1283': 'S',\n",
       " '1284': 'S',\n",
       " '1285': 'P',\n",
       " '1286': 'S',\n",
       " '1287': 'P',\n",
       " '1288': 'P',\n",
       " '1289': 'S',\n",
       " '1291': 'P',\n",
       " '1292': 'S',\n",
       " '1293': 'P',\n",
       " '1294': 'S',\n",
       " '1299': 'S',\n",
       " '1300': 'S',\n",
       " '1302': 'S',\n",
       " '1304': 'P',\n",
       " '1306': 'S',\n",
       " '1307': 'P',\n",
       " '1308': 'S',\n",
       " '1309': 'P',\n",
       " '1310': 'S',\n",
       " '1311': 'P',\n",
       " '1312': 'P',\n",
       " '1316': 'S',\n",
       " '1317': 'P',\n",
       " '1322': 'P',\n",
       " '1323': 'P',\n",
       " '1324': 'S',\n",
       " '1325': 'S',\n",
       " '1326': 'S',\n",
       " '1328': 'P',\n",
       " '1330': 'S',\n",
       " '1331': 'S',\n",
       " '1332': 'S',\n",
       " '1333': 'P',\n",
       " '1335': 'P',\n",
       " '1336': 'S',\n",
       " '1337': 'S',\n",
       " '1340': 'S',\n",
       " '1342': 'P',\n",
       " '1345': 'S',\n",
       " '1347': 'P',\n",
       " '1348': 'S',\n",
       " '1350': 'S',\n",
       " '1351': 'P',\n",
       " '1352': 'P',\n",
       " '1353': 'S',\n",
       " '1355': 'P',\n",
       " '1356': 'S',\n",
       " '1357': 'S',\n",
       " '1360': 'S',\n",
       " '1362': 'S',\n",
       " '1365': 'S',\n",
       " '1366': 'P',\n",
       " '1368': 'P',\n",
       " '1370': 'S',\n",
       " '1371': 'P',\n",
       " '1375': 'S',\n",
       " '1376': 'P',\n",
       " '1377': 'P',\n",
       " '1378': 'P',\n",
       " '1379': 'S',\n",
       " '1380': 'S',\n",
       " '1381': 'S',\n",
       " '1382': 'S',\n",
       " '1383': 'S',\n",
       " '1384': 'S',\n",
       " '1385': 'P',\n",
       " '1386': 'P',\n",
       " '1387': 'P',\n",
       " '1389': 'S',\n",
       " '1390': 'P',\n",
       " '1391': 'P',\n",
       " '1393': 'S',\n",
       " '1395': 'S',\n",
       " '1397': 'S',\n",
       " '1398': 'P',\n",
       " '1399': 'S',\n",
       " '1400': 'P',\n",
       " '1401': 'P',\n",
       " '1402': 'S',\n",
       " '1403': 'P',\n",
       " '1404': 'S',\n",
       " '1406': 'S',\n",
       " '1407': 'P',\n",
       " '1408': 'S',\n",
       " '1410': 'P',\n",
       " '1412': 'S',\n",
       " '1413': 'S',\n",
       " '1414': 'P',\n",
       " '1415': 'P',\n",
       " '1416': 'P',\n",
       " '1417': 'S',\n",
       " '1419': 'S',\n",
       " '1420': 'S',\n",
       " '1421': 'S',\n",
       " '1423': 'S',\n",
       " '1424': 'P',\n",
       " '1425': 'P',\n",
       " '1426': 'P',\n",
       " '1427': 'S',\n",
       " '1428': 'S',\n",
       " '1430': 'P',\n",
       " '1431': 'P',\n",
       " '1433': 'S',\n",
       " '1434': 'P',\n",
       " '1435': 'P',\n",
       " '1438': 'P',\n",
       " '1439': 'S',\n",
       " '1440': 'S',\n",
       " '1442': 'S',\n",
       " '1443': 'P',\n",
       " '1444': 'S',\n",
       " '1445': 'S',\n",
       " '1447': 'P',\n",
       " '1450': 'S',\n",
       " '1451': 'S',\n",
       " '1452': 'P',\n",
       " '1453': 'P',\n",
       " '1454': 'S',\n",
       " '1455': 'S',\n",
       " '1457': 'S',\n",
       " '1458': 'S',\n",
       " '1460': 'P',\n",
       " '1461': 'S',\n",
       " '1462': 'P',\n",
       " '1463': 'S',\n",
       " '1465': 'P',\n",
       " '1467': 'S',\n",
       " '1474': 'P',\n",
       " '1478': 'P',\n",
       " '1479': 'P',\n",
       " '1481': 'P',\n",
       " '1484': 'P',\n",
       " '1485': 'P',\n",
       " '1488': 'P',\n",
       " '1489': 'S',\n",
       " '1490': 'P',\n",
       " '1491': 'P',\n",
       " '1493': 'S',\n",
       " '1498': 'P',\n",
       " '1499': 'S',\n",
       " '1500': 'S',\n",
       " '1501': 'P',\n",
       " '1503': 'P',\n",
       " '1506': 'P',\n",
       " '1507': 'S',\n",
       " '1509': 'P',\n",
       " '1510': 'S',\n",
       " '1511': 'S',\n",
       " '1515': 'S',\n",
       " '1520': 'S',\n",
       " '1521': 'S',\n",
       " '1523': 'S',\n",
       " '1524': 'S',\n",
       " '1525': 'P',\n",
       " '1526': 'P',\n",
       " '1527': 'P',\n",
       " '1528': 'P',\n",
       " '1529': 'S',\n",
       " '1531': 'S',\n",
       " '1532': 'S',\n",
       " '1533': 'P',\n",
       " '1536': 'S',\n",
       " '1539': 'S',\n",
       " '1540': 'P',\n",
       " '1541': 'S',\n",
       " '1542': 'S',\n",
       " '1543': 'P',\n",
       " '1544': 'P',\n",
       " ...}"
      ]
     },
     "execution_count": 56,
     "metadata": {},
     "output_type": "execute_result"
    }
   ],
   "source": [
    "side_dict"
   ]
  },
  {
   "cell_type": "code",
   "execution_count": 57,
   "id": "44aceb5d-0674-4840-8831-5f78921b8b8a",
   "metadata": {},
   "outputs": [
    {
     "data": {
      "text/plain": [
       "0"
      ]
     },
     "execution_count": 57,
     "metadata": {},
     "output_type": "execute_result"
    }
   ],
   "source": [
    "train['deck'].isnull().sum()"
   ]
  },
  {
   "cell_type": "code",
   "execution_count": 58,
   "id": "9d62d774-e488-4455-8deb-889be60e1b14",
   "metadata": {
    "tags": []
   },
   "outputs": [],
   "source": [
    "train['side'].fillna(train['Group'].map(side_dict),inplace=True)"
   ]
  },
  {
   "cell_type": "code",
   "execution_count": 59,
   "id": "793d213e-26cc-4ae5-8f91-44d799d85223",
   "metadata": {},
   "outputs": [
    {
     "data": {
      "text/plain": [
       "99"
      ]
     },
     "execution_count": 59,
     "metadata": {},
     "output_type": "execute_result"
    }
   ],
   "source": [
    "train['side'].isnull().sum()"
   ]
  },
  {
   "cell_type": "code",
   "execution_count": 60,
   "id": "c700079c-2a38-4bae-993b-0e22415264d5",
   "metadata": {},
   "outputs": [
    {
     "data": {
      "text/plain": [
       "S    4343\n",
       "P    4251\n",
       "Name: side, dtype: int64"
      ]
     },
     "execution_count": 60,
     "metadata": {},
     "output_type": "execute_result"
    }
   ],
   "source": [
    "train['side'].value_counts()"
   ]
  },
  {
   "cell_type": "code",
   "execution_count": 61,
   "id": "13e065fa-28ae-49da-bc09-c2afd890aafe",
   "metadata": {},
   "outputs": [],
   "source": [
    "train['side'].fillna('S',inplace=True)"
   ]
  },
  {
   "cell_type": "code",
   "execution_count": 62,
   "id": "77aba0c2-f6f8-4f95-b3a0-f8f785502b08",
   "metadata": {},
   "outputs": [],
   "source": [
    "dest_group = train.groupby(['Group','Destination']).size().reset_index()"
   ]
  },
  {
   "cell_type": "code",
   "execution_count": 63,
   "id": "5756126c-be9a-4d47-9745-d3bf5f93ee4e",
   "metadata": {
    "tags": []
   },
   "outputs": [
    {
     "data": {
      "text/html": [
       "<div>\n",
       "<style scoped>\n",
       "    .dataframe tbody tr th:only-of-type {\n",
       "        vertical-align: middle;\n",
       "    }\n",
       "\n",
       "    .dataframe tbody tr th {\n",
       "        vertical-align: top;\n",
       "    }\n",
       "\n",
       "    .dataframe thead th {\n",
       "        text-align: right;\n",
       "    }\n",
       "</style>\n",
       "<table border=\"1\" class=\"dataframe\">\n",
       "  <thead>\n",
       "    <tr style=\"text-align: right;\">\n",
       "      <th></th>\n",
       "      <th>Group</th>\n",
       "      <th>Destination</th>\n",
       "      <th>0</th>\n",
       "    </tr>\n",
       "  </thead>\n",
       "  <tbody>\n",
       "    <tr>\n",
       "      <th>8</th>\n",
       "      <td>0008</td>\n",
       "      <td>TRAPPIST-1e</td>\n",
       "      <td>1</td>\n",
       "    </tr>\n",
       "    <tr>\n",
       "      <th>17</th>\n",
       "      <td>0017</td>\n",
       "      <td>TRAPPIST-1e</td>\n",
       "      <td>1</td>\n",
       "    </tr>\n",
       "    <tr>\n",
       "      <th>19</th>\n",
       "      <td>0020</td>\n",
       "      <td>PSO J318.5-22</td>\n",
       "      <td>1</td>\n",
       "    </tr>\n",
       "    <tr>\n",
       "      <th>20</th>\n",
       "      <td>0020</td>\n",
       "      <td>TRAPPIST-1e</td>\n",
       "      <td>3</td>\n",
       "    </tr>\n",
       "    <tr>\n",
       "      <th>36</th>\n",
       "      <td>0044</td>\n",
       "      <td>PSO J318.5-22</td>\n",
       "      <td>1</td>\n",
       "    </tr>\n",
       "    <tr>\n",
       "      <th>...</th>\n",
       "      <td>...</td>\n",
       "      <td>...</td>\n",
       "      <td>...</td>\n",
       "    </tr>\n",
       "    <tr>\n",
       "      <th>6836</th>\n",
       "      <td>9219</td>\n",
       "      <td>TRAPPIST-1e</td>\n",
       "      <td>1</td>\n",
       "    </tr>\n",
       "    <tr>\n",
       "      <th>6838</th>\n",
       "      <td>9220</td>\n",
       "      <td>TRAPPIST-1e</td>\n",
       "      <td>2</td>\n",
       "    </tr>\n",
       "    <tr>\n",
       "      <th>6844</th>\n",
       "      <td>9227</td>\n",
       "      <td>TRAPPIST-1e</td>\n",
       "      <td>3</td>\n",
       "    </tr>\n",
       "    <tr>\n",
       "      <th>6847</th>\n",
       "      <td>9231</td>\n",
       "      <td>TRAPPIST-1e</td>\n",
       "      <td>2</td>\n",
       "    </tr>\n",
       "    <tr>\n",
       "      <th>6879</th>\n",
       "      <td>9280</td>\n",
       "      <td>TRAPPIST-1e</td>\n",
       "      <td>1</td>\n",
       "    </tr>\n",
       "  </tbody>\n",
       "</table>\n",
       "<p>766 rows × 3 columns</p>\n",
       "</div>"
      ],
      "text/plain": [
       "     Group    Destination  0\n",
       "8     0008    TRAPPIST-1e  1\n",
       "17    0017    TRAPPIST-1e  1\n",
       "19    0020  PSO J318.5-22  1\n",
       "20    0020    TRAPPIST-1e  3\n",
       "36    0044  PSO J318.5-22  1\n",
       "...    ...            ... ..\n",
       "6836  9219    TRAPPIST-1e  1\n",
       "6838  9220    TRAPPIST-1e  2\n",
       "6844  9227    TRAPPIST-1e  3\n",
       "6847  9231    TRAPPIST-1e  2\n",
       "6879  9280    TRAPPIST-1e  1\n",
       "\n",
       "[766 rows x 3 columns]"
      ]
     },
     "execution_count": 63,
     "metadata": {},
     "output_type": "execute_result"
    }
   ],
   "source": [
    "dest_group[dest_group['Group'].duplicated()]"
   ]
  },
  {
   "cell_type": "code",
   "execution_count": 64,
   "id": "17a4e7fe-3e04-42b1-a049-6bfdc02af4f5",
   "metadata": {},
   "outputs": [],
   "source": [
    "dest_group = dest_group.sort_values(0, ascending=False)"
   ]
  },
  {
   "cell_type": "code",
   "execution_count": 65,
   "id": "5dd1adcf-8b22-41e6-9e67-7920af41b2ee",
   "metadata": {},
   "outputs": [],
   "source": [
    "dest_group = dest_group.drop_duplicates()"
   ]
  },
  {
   "cell_type": "code",
   "execution_count": 66,
   "id": "3a99f651-afad-4395-84f9-61a622418c6a",
   "metadata": {},
   "outputs": [],
   "source": [
    "dest_dict={}\n",
    "for g , d in zip(dest_group['Group'], dest_group['Destination']):\n",
    "    dest_dict[g]=d"
   ]
  },
  {
   "cell_type": "code",
   "execution_count": 67,
   "id": "e883a2ff-f12f-4fce-9446-8d9f1f39f4a3",
   "metadata": {},
   "outputs": [],
   "source": [
    "train['Destination'].fillna(train['Group'].map(dest_dict),inplace=True)"
   ]
  },
  {
   "cell_type": "code",
   "execution_count": 68,
   "id": "6529231c-ce8b-407a-bd0d-0d5e88d58b93",
   "metadata": {},
   "outputs": [
    {
     "data": {
      "text/plain": [
       "103"
      ]
     },
     "execution_count": 68,
     "metadata": {},
     "output_type": "execute_result"
    }
   ],
   "source": [
    "train['Destination'].isnull().sum()"
   ]
  },
  {
   "cell_type": "code",
   "execution_count": 69,
   "id": "f8638742-5433-47f0-83e8-8e58cdc43843",
   "metadata": {},
   "outputs": [
    {
     "data": {
      "text/plain": [
       "HomePlanet  Destination  \n",
       "Earth       55 Cancri e       704\n",
       "            PSO J318.5-22     736\n",
       "            TRAPPIST-1e      3203\n",
       "Europa      55 Cancri e       915\n",
       "            PSO J318.5-22      19\n",
       "            TRAPPIST-1e      1224\n",
       "Mars        55 Cancri e       201\n",
       "            PSO J318.5-22      51\n",
       "            TRAPPIST-1e      1537\n",
       "dtype: int64"
      ]
     },
     "execution_count": 69,
     "metadata": {},
     "output_type": "execute_result"
    }
   ],
   "source": [
    "train.groupby(['HomePlanet','Destination']).size()"
   ]
  },
  {
   "cell_type": "code",
   "execution_count": 70,
   "id": "70266841-feeb-4c91-a627-779b727dda38",
   "metadata": {},
   "outputs": [
    {
     "data": {
      "text/plain": [
       "TRAPPIST-1e      5964\n",
       "55 Cancri e      1820\n",
       "PSO J318.5-22     806\n",
       "Name: Destination, dtype: int64"
      ]
     },
     "execution_count": 70,
     "metadata": {},
     "output_type": "execute_result"
    }
   ],
   "source": [
    "train['Destination'].value_counts()"
   ]
  },
  {
   "cell_type": "code",
   "execution_count": 71,
   "id": "3ad6b6fd-3c82-461c-8cdd-85c138391eab",
   "metadata": {},
   "outputs": [],
   "source": [
    "train['Destination'].fillna('TRAPPIST-1e',inplace=True)"
   ]
  },
  {
   "cell_type": "code",
   "execution_count": 72,
   "id": "33b4e953-ab7b-44b0-a97c-53dd718af02e",
   "metadata": {},
   "outputs": [
    {
     "data": {
      "text/plain": [
       "0"
      ]
     },
     "execution_count": 72,
     "metadata": {},
     "output_type": "execute_result"
    }
   ],
   "source": [
    "train['Destination'].isnull().sum()"
   ]
  },
  {
   "cell_type": "code",
   "execution_count": 73,
   "id": "c7a4c669-144b-411c-ac1b-439e2d47182b",
   "metadata": {},
   "outputs": [
    {
     "data": {
      "text/plain": [
       "PassengerId       0\n",
       "HomePlanet        0\n",
       "CryoSleep       217\n",
       "Cabin           199\n",
       "Destination       0\n",
       "Age             179\n",
       "VIP               0\n",
       "RoomService       0\n",
       "FoodCourt         0\n",
       "ShoppingMall      0\n",
       "Spa               0\n",
       "VRDeck            0\n",
       "Name            200\n",
       "Transported       0\n",
       "Group             0\n",
       "Name2           200\n",
       "Fee               0\n",
       "deck              0\n",
       "side              0\n",
       "dtype: int64"
      ]
     },
     "execution_count": 73,
     "metadata": {},
     "output_type": "execute_result"
    }
   ],
   "source": [
    "train.isnull().sum()"
   ]
  },
  {
   "cell_type": "code",
   "execution_count": 74,
   "id": "ab321695-523c-49bc-824b-dd9e8266fb81",
   "metadata": {},
   "outputs": [
    {
     "data": {
      "text/plain": [
       "0       False\n",
       "1       False\n",
       "2       False\n",
       "3       False\n",
       "4       False\n",
       "        ...  \n",
       "8688    False\n",
       "8689     True\n",
       "8690    False\n",
       "8691    False\n",
       "8692    False\n",
       "Name: CryoSleep, Length: 8693, dtype: object"
      ]
     },
     "execution_count": 74,
     "metadata": {},
     "output_type": "execute_result"
    }
   ],
   "source": [
    "# RoomService, FoodCourt, ShoppingMall,Spa,VRDeck\n",
    "train['CryoSleep']"
   ]
  },
  {
   "cell_type": "code",
   "execution_count": 75,
   "id": "cfef2886-9e15-4c92-86d5-3a96aacecbb5",
   "metadata": {},
   "outputs": [
    {
     "data": {
      "text/plain": [
       "92         0.0\n",
       "98       703.0\n",
       "104     2018.0\n",
       "111        0.0\n",
       "152      990.0\n",
       "         ...  \n",
       "8620       0.0\n",
       "8651       0.0\n",
       "8664       0.0\n",
       "8675    2056.0\n",
       "8687    3540.0\n",
       "Name: Fee, Length: 217, dtype: float64"
      ]
     },
     "execution_count": 75,
     "metadata": {},
     "output_type": "execute_result"
    }
   ],
   "source": [
    "train[train['CryoSleep'].isnull()]['Fee']"
   ]
  },
  {
   "cell_type": "code",
   "execution_count": 76,
   "id": "73dd0114-e1e4-45f9-b1d0-2b4f29133b8d",
   "metadata": {},
   "outputs": [],
   "source": [
    "train['CryoSleep'] = np.where(train['CryoSleep'] >0 ,False, True)"
   ]
  },
  {
   "cell_type": "code",
   "execution_count": 77,
   "id": "c4a57edc-5904-4db8-a091-40184317f8f7",
   "metadata": {},
   "outputs": [
    {
     "data": {
      "text/plain": [
       "0"
      ]
     },
     "execution_count": 77,
     "metadata": {},
     "output_type": "execute_result"
    }
   ],
   "source": [
    "train['CryoSleep'].isnull().sum()"
   ]
  },
  {
   "cell_type": "code",
   "execution_count": 78,
   "id": "c8b0258c-aa45-4aab-9729-5ee900307dce",
   "metadata": {},
   "outputs": [
    {
     "data": {
      "text/plain": [
       "True     4378\n",
       "False    4315\n",
       "Name: Transported, dtype: int64"
      ]
     },
     "execution_count": 78,
     "metadata": {},
     "output_type": "execute_result"
    }
   ],
   "source": [
    "train['Transported'].value_counts()"
   ]
  },
  {
   "cell_type": "code",
   "execution_count": 79,
   "id": "4a6d7872-36fc-4282-9d3d-bd574b610727",
   "metadata": {},
   "outputs": [],
   "source": [
    "train['Age'].fillna(train['Age'].median(),inplace=True)"
   ]
  },
  {
   "cell_type": "code",
   "execution_count": 80,
   "id": "50d983de-71e8-489a-b4bb-34a0ebc14304",
   "metadata": {},
   "outputs": [],
   "source": [
    "del_col = ['PassengerId', 'Name', 'Name2','Cabin' ]"
   ]
  },
  {
   "cell_type": "code",
   "execution_count": 81,
   "id": "39780984-f95e-4afa-8f1c-2f79331826fc",
   "metadata": {},
   "outputs": [],
   "source": [
    "train = train.drop(del_col, axis=1)"
   ]
  },
  {
   "cell_type": "code",
   "execution_count": 82,
   "id": "88f62ef1-86fb-4ea2-acc0-c87e6f56f97e",
   "metadata": {},
   "outputs": [
    {
     "data": {
      "text/plain": [
       "HomePlanet      0\n",
       "CryoSleep       0\n",
       "Destination     0\n",
       "Age             0\n",
       "VIP             0\n",
       "RoomService     0\n",
       "FoodCourt       0\n",
       "ShoppingMall    0\n",
       "Spa             0\n",
       "VRDeck          0\n",
       "Transported     0\n",
       "Group           0\n",
       "Fee             0\n",
       "deck            0\n",
       "side            0\n",
       "dtype: int64"
      ]
     },
     "execution_count": 82,
     "metadata": {},
     "output_type": "execute_result"
    }
   ],
   "source": [
    "train.isnull().sum()"
   ]
  },
  {
   "cell_type": "code",
   "execution_count": 83,
   "id": "bea783c2-e579-4627-aba2-0dddd40e9fbc",
   "metadata": {},
   "outputs": [
    {
     "name": "stdout",
     "output_type": "stream",
     "text": [
      "<class 'pandas.core.frame.DataFrame'>\n",
      "RangeIndex: 8693 entries, 0 to 8692\n",
      "Data columns (total 15 columns):\n",
      " #   Column        Non-Null Count  Dtype  \n",
      "---  ------        --------------  -----  \n",
      " 0   HomePlanet    8693 non-null   object \n",
      " 1   CryoSleep     8693 non-null   bool   \n",
      " 2   Destination   8693 non-null   object \n",
      " 3   Age           8693 non-null   float64\n",
      " 4   VIP           8693 non-null   bool   \n",
      " 5   RoomService   8693 non-null   float64\n",
      " 6   FoodCourt     8693 non-null   float64\n",
      " 7   ShoppingMall  8693 non-null   float64\n",
      " 8   Spa           8693 non-null   float64\n",
      " 9   VRDeck        8693 non-null   float64\n",
      " 10  Transported   8693 non-null   bool   \n",
      " 11  Group         8693 non-null   object \n",
      " 12  Fee           8693 non-null   float64\n",
      " 13  deck          8693 non-null   object \n",
      " 14  side          8693 non-null   object \n",
      "dtypes: bool(3), float64(7), object(5)\n",
      "memory usage: 840.6+ KB\n"
     ]
    }
   ],
   "source": [
    "train.info()"
   ]
  },
  {
   "cell_type": "code",
   "execution_count": 131,
   "id": "5e83a21d-ed9c-443d-a1ec-607d2820b1a9",
   "metadata": {},
   "outputs": [
    {
     "name": "stdout",
     "output_type": "stream",
     "text": [
      "[1 0 2]\n"
     ]
    }
   ],
   "source": [
    "print(train['HomePlanet'].unique())\n",
    "print(train['Destination'].unique())\n",
    "print(train['Group'].unique())\n",
    "print(train['deck'].unique())\n",
    "print(train['side'].unique())"
   ]
  },
  {
   "cell_type": "code",
   "execution_count": 90,
   "id": "5915430f-9cb6-4aa2-93a8-a85a19d24eab",
   "metadata": {},
   "outputs": [],
   "source": [
    "from sklearn.preprocessing import LabelEncoder"
   ]
  },
  {
   "cell_type": "code",
   "execution_count": 99,
   "id": "161902bb-baa1-410d-90f6-b8ae9165bf49",
   "metadata": {},
   "outputs": [],
   "source": [
    "obj_col=[]\n",
    "for col,types in zip(train.dtypes.index, train.dtypes.values):\n",
    "    if types=='object':\n",
    "        obj_col.append(col)"
   ]
  },
  {
   "cell_type": "code",
   "execution_count": 100,
   "id": "331fc798-3a73-4f8d-b1ad-60b5c5738c92",
   "metadata": {},
   "outputs": [
    {
     "data": {
      "text/plain": [
       "['HomePlanet', 'Destination', 'Group', 'deck', 'side']"
      ]
     },
     "execution_count": 100,
     "metadata": {},
     "output_type": "execute_result"
    }
   ],
   "source": [
    "obj_col"
   ]
  },
  {
   "cell_type": "code",
   "execution_count": 124,
   "id": "4ecadf36-8cd7-4ffb-8757-555c2a86b67d",
   "metadata": {},
   "outputs": [],
   "source": [
    "import pickle"
   ]
  },
  {
   "cell_type": "code",
   "execution_count": 126,
   "id": "134fad1b-dcb0-4436-b884-2b0aedcb678e",
   "metadata": {},
   "outputs": [],
   "source": [
    "for col in obj_col:\n",
    "    label = LabelEncoder()\n",
    "    train[col]=label.fit_transform(train[col])\n",
    "    filename = 'label_'+col+'.pkl'\n",
    "    with open('rabel_model.pkl', 'wb') as f:\n",
    "        pickle.dump(label, f)"
   ]
  },
  {
   "cell_type": "code",
   "execution_count": 103,
   "id": "b834a055-653e-4567-84a0-b305f8e215a0",
   "metadata": {},
   "outputs": [],
   "source": [
    "X = train.drop('Transported',axis=1)\n",
    "Y = train['Transported']"
   ]
  },
  {
   "cell_type": "code",
   "execution_count": 108,
   "id": "e02417b6-0634-4e0b-8ed9-2bac0b98d068",
   "metadata": {},
   "outputs": [],
   "source": [
    "from sklearn.model_selection import train_test_split\n",
    "from sklearn.ensemble import RandomForestClassifier"
   ]
  },
  {
   "cell_type": "markdown",
   "id": "a491c365-3013-4106-bfe5-cb7c0383c2a4",
   "metadata": {},
   "source": [
    "- train 데이터는 문제,정답있고 test는 문제만 있는 것 train을 통해 모델을 만들고 test를 모델에 돌려서 결과제출"
   ]
  },
  {
   "cell_type": "code",
   "execution_count": 116,
   "id": "7991e206-ffb1-419f-b27d-34d993049a37",
   "metadata": {},
   "outputs": [],
   "source": [
    "x_train, x_test, y_train, y_test = train_test_split(X,Y,test_size=0.2, random_state=10)"
   ]
  },
  {
   "cell_type": "code",
   "execution_count": 118,
   "id": "4d2ac491-7c0c-4646-bb52-fc7fd8bce090",
   "metadata": {},
   "outputs": [],
   "source": [
    "rfc_model = RandomForestClassifier()"
   ]
  },
  {
   "cell_type": "code",
   "execution_count": 120,
   "id": "37d868d4-72fc-41a8-b859-cd14ace360dc",
   "metadata": {},
   "outputs": [
    {
     "data": {
      "text/plain": [
       "RandomForestClassifier()"
      ]
     },
     "execution_count": 120,
     "metadata": {},
     "output_type": "execute_result"
    }
   ],
   "source": [
    "rfc_model.fit(x_train,y_train)"
   ]
  },
  {
   "cell_type": "code",
   "execution_count": 122,
   "id": "a838b350-9aaa-4486-a231-d2cf9c20df11",
   "metadata": {},
   "outputs": [
    {
     "data": {
      "text/plain": [
       "0.7947096032202415"
      ]
     },
     "execution_count": 122,
     "metadata": {},
     "output_type": "execute_result"
    }
   ],
   "source": [
    "rfc_model.score(x_test,y_test)"
   ]
  },
  {
   "cell_type": "code",
   "execution_count": null,
   "id": "f1c6e038-2ee6-4bd6-bbc9-18f2b23845f3",
   "metadata": {},
   "outputs": [],
   "source": []
  }
 ],
 "metadata": {
  "kernelspec": {
   "display_name": "Python 3 (ipykernel)",
   "language": "python",
   "name": "python3"
  },
  "language_info": {
   "codemirror_mode": {
    "name": "ipython",
    "version": 3
   },
   "file_extension": ".py",
   "mimetype": "text/x-python",
   "name": "python",
   "nbconvert_exporter": "python",
   "pygments_lexer": "ipython3",
   "version": "3.9.12"
  }
 },
 "nbformat": 4,
 "nbformat_minor": 5
}
